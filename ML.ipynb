{
 "cells": [
  {
   "cell_type": "code",
   "execution_count": 1,
   "metadata": {},
   "outputs": [],
   "source": [
    "import pandas as pd\n",
    "from sklearn.feature_extraction.text import TfidfVectorizer\n",
    "from sklearn.neighbors import NearestNeighbors\n"
   ]
  },
  {
   "cell_type": "code",
   "execution_count": 2,
   "metadata": {},
   "outputs": [],
   "source": [
    "data = pd.read_csv('C:\\project_mlops\\datasets\\data_final.csv')"
   ]
  },
  {
   "cell_type": "code",
   "execution_count": 35,
   "metadata": {},
   "outputs": [
    {
     "data": {
      "text/html": [
       "<div>\n",
       "<style scoped>\n",
       "    .dataframe tbody tr th:only-of-type {\n",
       "        vertical-align: middle;\n",
       "    }\n",
       "\n",
       "    .dataframe tbody tr th {\n",
       "        vertical-align: top;\n",
       "    }\n",
       "\n",
       "    .dataframe thead th {\n",
       "        text-align: right;\n",
       "    }\n",
       "</style>\n",
       "<table border=\"1\" class=\"dataframe\">\n",
       "  <thead>\n",
       "    <tr style=\"text-align: right;\">\n",
       "      <th></th>\n",
       "      <th>title</th>\n",
       "      <th>genres</th>\n",
       "    </tr>\n",
       "  </thead>\n",
       "  <tbody>\n",
       "    <tr>\n",
       "      <th>0</th>\n",
       "      <td>Minions</td>\n",
       "      <td>[{'id': 10751, 'name': 'Family'}, {'id': 16, '...</td>\n",
       "    </tr>\n",
       "    <tr>\n",
       "      <th>1</th>\n",
       "      <td>Wonder Woman</td>\n",
       "      <td>[{'id': 28, 'name': 'Action'}, {'id': 12, 'nam...</td>\n",
       "    </tr>\n",
       "    <tr>\n",
       "      <th>2</th>\n",
       "      <td>Beauty and the Beast</td>\n",
       "      <td>[{'id': 10751, 'name': 'Family'}, {'id': 14, '...</td>\n",
       "    </tr>\n",
       "    <tr>\n",
       "      <th>3</th>\n",
       "      <td>Baby Driver</td>\n",
       "      <td>[{'id': 28, 'name': 'Action'}, {'id': 80, 'nam...</td>\n",
       "    </tr>\n",
       "    <tr>\n",
       "      <th>4</th>\n",
       "      <td>Big Hero 6</td>\n",
       "      <td>[{'id': 12, 'name': 'Adventure'}, {'id': 10751...</td>\n",
       "    </tr>\n",
       "    <tr>\n",
       "      <th>...</th>\n",
       "      <td>...</td>\n",
       "      <td>...</td>\n",
       "    </tr>\n",
       "    <tr>\n",
       "      <th>45341</th>\n",
       "      <td>At the River I Stand</td>\n",
       "      <td>[]</td>\n",
       "    </tr>\n",
       "    <tr>\n",
       "      <th>45342</th>\n",
       "      <td>Narrien Illat</td>\n",
       "      <td>[{'id': 35, 'name': 'Comedy'}, {'id': 18, 'nam...</td>\n",
       "    </tr>\n",
       "    <tr>\n",
       "      <th>45343</th>\n",
       "      <td>The Winner</td>\n",
       "      <td>[{'id': 18, 'name': 'Drama'}, {'id': 10749, 'n...</td>\n",
       "    </tr>\n",
       "    <tr>\n",
       "      <th>45344</th>\n",
       "      <td>Raakh</td>\n",
       "      <td>[]</td>\n",
       "    </tr>\n",
       "    <tr>\n",
       "      <th>45345</th>\n",
       "      <td>Star Spangled Girl</td>\n",
       "      <td>[{'id': 35, 'name': 'Comedy'}]</td>\n",
       "    </tr>\n",
       "  </tbody>\n",
       "</table>\n",
       "<p>45346 rows × 2 columns</p>\n",
       "</div>"
      ],
      "text/plain": [
       "                      title                                             genres\n",
       "0                   Minions  [{'id': 10751, 'name': 'Family'}, {'id': 16, '...\n",
       "1              Wonder Woman  [{'id': 28, 'name': 'Action'}, {'id': 12, 'nam...\n",
       "2      Beauty and the Beast  [{'id': 10751, 'name': 'Family'}, {'id': 14, '...\n",
       "3               Baby Driver  [{'id': 28, 'name': 'Action'}, {'id': 80, 'nam...\n",
       "4                Big Hero 6  [{'id': 12, 'name': 'Adventure'}, {'id': 10751...\n",
       "...                     ...                                                ...\n",
       "45341  At the River I Stand                                                 []\n",
       "45342         Narrien Illat  [{'id': 35, 'name': 'Comedy'}, {'id': 18, 'nam...\n",
       "45343            The Winner  [{'id': 18, 'name': 'Drama'}, {'id': 10749, 'n...\n",
       "45344                 Raakh                                                 []\n",
       "45345    Star Spangled Girl                     [{'id': 35, 'name': 'Comedy'}]\n",
       "\n",
       "[45346 rows x 2 columns]"
      ]
     },
     "execution_count": 35,
     "metadata": {},
     "output_type": "execute_result"
    }
   ],
   "source": [
    "data[['title','genres']]"
   ]
  },
  {
   "cell_type": "code",
   "execution_count": 4,
   "metadata": {},
   "outputs": [],
   "source": [
    "import ast\n",
    "import json\n",
    "\n",
    "def convertir_a_dict(valor):\n",
    "    datos_list = ast.literal_eval(valor)\n",
    "    datos_str_list = [json.dumps(d) for d in datos_list]\n",
    "    datos_dict_list = [json.loads(d) for d in datos_str_list]\n",
    "    return datos_dict_list\n",
    "\n",
    "# Aplicar la función a toda la columna 'cast' agregando una nueva columna al DF llamada 'cast_dict'\n",
    "data['genres'] = data['genres'].apply(convertir_a_dict)"
   ]
  },
  {
   "cell_type": "code",
   "execution_count": 30,
   "metadata": {},
   "outputs": [],
   "source": [
    "data['genres1'] = data['genres'].apply(lambda x: ' '.join([d['name'] for d in x]) if isinstance(x, list) else None)"
   ]
  },
  {
   "cell_type": "code",
   "execution_count": 31,
   "metadata": {},
   "outputs": [
    {
     "data": {
      "text/plain": [
       "0               Family Animation Adventure Comedy\n",
       "1                        Action Adventure Fantasy\n",
       "2                          Family Fantasy Romance\n",
       "3                                    Action Crime\n",
       "4        Adventure Family Animation Action Comedy\n",
       "                           ...                   \n",
       "45341                                            \n",
       "45342                          Comedy Drama Music\n",
       "45343                       Drama Romance Foreign\n",
       "45344                                            \n",
       "45345                                      Comedy\n",
       "Name: genres1, Length: 45346, dtype: object"
      ]
     },
     "execution_count": 31,
     "metadata": {},
     "output_type": "execute_result"
    }
   ],
   "source": [
    "data['genres1']"
   ]
  },
  {
   "cell_type": "code",
   "execution_count": 7,
   "metadata": {},
   "outputs": [],
   "source": [
    "\n",
    "import json\n",
    "import ast\n",
    "\n",
    "# primero le hacemos un tratamiento al texto con el modulo ast para pasar el texto a un formato mas entendible por python \n",
    "def transform_collection_name(value):\n",
    "    if pd.isnull(value): # si en la fila existe algún elemento en Nan lo deja igual \n",
    "        return value\n",
    "    collection_dict = ast.literal_eval(value)\n",
    "    value = value.replace(\"'\", '\"')  # Reemplazar comillas simples por comillas dobles\n",
    "    # Obtener el valor asociado a la clave 'name'\n",
    "    name_value = collection_dict['name']\n",
    "    # Para los valores en 'name' con algunos caracteres extraños se les intercambia por espacio\n",
    "    # Reemplazar comas por una cadena vacía en name_value\n",
    "    name_value = name_value.replace(',', '').replace(\"!\", '').replace(\"'\", '').replace(\"*\", '').replace(\"-\", '')  \n",
    "    # Actualizar el valor \n",
    "    collection_dict['name'] = name_value\n",
    "\n",
    "    # Convertimos lo que parece un diccionario de vuelta a texto\n",
    "    updated_value = str(collection_dict)\n",
    "\n",
    "    return updated_value\n",
    "\n",
    "# Esta función nos permite evaluar el texto de la fila y mediante el modulo de json y luego poder extraer cada valor y crear el diccionario\n",
    "def extract_collection_info(row):\n",
    "    try:\n",
    "        if pd.isnull(row): # si en la fila existe algún elemento en Nan lo deja igual\n",
    "            return row\n",
    "        row = transform_collection_name(row)\n",
    "        # Reemplazar comillas simples por comillas dobles\n",
    "        row = row.replace(\"'\", '\"')\n",
    "        collection_data = json.loads(row)\n",
    "        if not isinstance(collection_data, dict):\n",
    "            raise ValueError(\"Invalid JSON format\")\n",
    "\n",
    "        id = collection_data.get('id')\n",
    "        name = collection_data.get('name')\n",
    "        poster_path = collection_data.get('poster_path')\n",
    "        backdrop_path = collection_data.get('backdrop_path')\n",
    "        \n",
    "        # Manejar el valor None en backdrop_path y poster_path\n",
    "        if backdrop_path == 'None':\n",
    "            backdrop_path = None\n",
    "        if poster_path == 'None':\n",
    "            poster_path = None\n",
    "        \n",
    "        return {'id': id,\n",
    "                'name': name,\n",
    "                'poster_path': poster_path,\n",
    "                'backdrop_path': backdrop_path}\n",
    "    except (json.JSONDecodeError, ValueError) as e:\n",
    "        return {'error': str(e)}"
   ]
  },
  {
   "cell_type": "code",
   "execution_count": 8,
   "metadata": {},
   "outputs": [],
   "source": [
    "#data['belongs_to_collection'] = data['belongs_to_collection'].apply(extract_collection_info)"
   ]
  },
  {
   "cell_type": "code",
   "execution_count": 11,
   "metadata": {},
   "outputs": [
    {
     "data": {
      "text/plain": [
       "{'id': 86066,\n",
       " 'name': 'Despicable Me Collection',\n",
       " 'poster_path': '/xIXhIlZDRmSSfNbpN7kBCm5hg39.jpg',\n",
       " 'backdrop_path': '/15IZl405E664QDVxpFJBl7TtLmw.jpg'}"
      ]
     },
     "execution_count": 11,
     "metadata": {},
     "output_type": "execute_result"
    }
   ],
   "source": [
    "data['belongs_to_collection'][0]"
   ]
  },
  {
   "cell_type": "code",
   "execution_count": 13,
   "metadata": {},
   "outputs": [],
   "source": [
    "valores_name = data['belongs_to_collection'].apply(lambda x: x.get('name') if not pd.isna(x) else None)"
   ]
  },
  {
   "cell_type": "code",
   "execution_count": 16,
   "metadata": {},
   "outputs": [],
   "source": [
    "data['belongs_to_collection'] = valores_name"
   ]
  },
  {
   "cell_type": "code",
   "execution_count": 38,
   "metadata": {},
   "outputs": [
    {
     "data": {
      "text/plain": [
       "0               Family Animation Adventure Comedy\n",
       "1                        Action Adventure Fantasy\n",
       "2                          Family Fantasy Romance\n",
       "3                                    Action Crime\n",
       "4        Adventure Family Animation Action Comedy\n",
       "                           ...                   \n",
       "45341                                            \n",
       "45342                          Comedy Drama Music\n",
       "45343                       Drama Romance Foreign\n",
       "45344                                            \n",
       "45345                                      Comedy\n",
       "Name: genres1, Length: 45346, dtype: object"
      ]
     },
     "execution_count": 38,
     "metadata": {},
     "output_type": "execute_result"
    }
   ],
   "source": [
    "data['genres1']"
   ]
  },
  {
   "cell_type": "code",
   "execution_count": null,
   "metadata": {},
   "outputs": [],
   "source": []
  },
  {
   "cell_type": "code",
   "execution_count": 41,
   "metadata": {},
   "outputs": [],
   "source": [
    "data_ml = data[['title','overview','belongs_to_collection','genres1']]"
   ]
  },
  {
   "cell_type": "code",
   "execution_count": 42,
   "metadata": {},
   "outputs": [
    {
     "data": {
      "text/html": [
       "<div>\n",
       "<style scoped>\n",
       "    .dataframe tbody tr th:only-of-type {\n",
       "        vertical-align: middle;\n",
       "    }\n",
       "\n",
       "    .dataframe tbody tr th {\n",
       "        vertical-align: top;\n",
       "    }\n",
       "\n",
       "    .dataframe thead th {\n",
       "        text-align: right;\n",
       "    }\n",
       "</style>\n",
       "<table border=\"1\" class=\"dataframe\">\n",
       "  <thead>\n",
       "    <tr style=\"text-align: right;\">\n",
       "      <th></th>\n",
       "      <th>title</th>\n",
       "      <th>overview</th>\n",
       "      <th>belongs_to_collection</th>\n",
       "      <th>genres1</th>\n",
       "    </tr>\n",
       "  </thead>\n",
       "  <tbody>\n",
       "    <tr>\n",
       "      <th>0</th>\n",
       "      <td>Minions</td>\n",
       "      <td>Minions Stuart, Kevin and Bob are recruited by...</td>\n",
       "      <td>Despicable Me Collection</td>\n",
       "      <td>Family Animation Adventure Comedy</td>\n",
       "    </tr>\n",
       "    <tr>\n",
       "      <th>1</th>\n",
       "      <td>Wonder Woman</td>\n",
       "      <td>An Amazon princess comes to the world of Man t...</td>\n",
       "      <td>Wonder Woman Collection</td>\n",
       "      <td>Action Adventure Fantasy</td>\n",
       "    </tr>\n",
       "    <tr>\n",
       "      <th>2</th>\n",
       "      <td>Beauty and the Beast</td>\n",
       "      <td>A live-action adaptation of Disney's version o...</td>\n",
       "      <td>None</td>\n",
       "      <td>Family Fantasy Romance</td>\n",
       "    </tr>\n",
       "    <tr>\n",
       "      <th>3</th>\n",
       "      <td>Baby Driver</td>\n",
       "      <td>After being coerced into working for a crime b...</td>\n",
       "      <td>None</td>\n",
       "      <td>Action Crime</td>\n",
       "    </tr>\n",
       "    <tr>\n",
       "      <th>4</th>\n",
       "      <td>Big Hero 6</td>\n",
       "      <td>The special bond that develops between plus-si...</td>\n",
       "      <td>None</td>\n",
       "      <td>Adventure Family Animation Action Comedy</td>\n",
       "    </tr>\n",
       "    <tr>\n",
       "      <th>...</th>\n",
       "      <td>...</td>\n",
       "      <td>...</td>\n",
       "      <td>...</td>\n",
       "      <td>...</td>\n",
       "    </tr>\n",
       "    <tr>\n",
       "      <th>45341</th>\n",
       "      <td>At the River I Stand</td>\n",
       "      <td>This moving documentary recounts the two month...</td>\n",
       "      <td>None</td>\n",
       "      <td></td>\n",
       "    </tr>\n",
       "    <tr>\n",
       "      <th>45342</th>\n",
       "      <td>Narrien Illat</td>\n",
       "      <td>The ups and downs of the popular music world a...</td>\n",
       "      <td>None</td>\n",
       "      <td>Comedy Drama Music</td>\n",
       "    </tr>\n",
       "    <tr>\n",
       "      <th>45343</th>\n",
       "      <td>The Winner</td>\n",
       "      <td>Tou former boxers meet in the ring again after...</td>\n",
       "      <td>None</td>\n",
       "      <td>Drama Romance Foreign</td>\n",
       "    </tr>\n",
       "    <tr>\n",
       "      <th>45344</th>\n",
       "      <td>Raakh</td>\n",
       "      <td>After witnessing the public humiliation &amp;amp; ...</td>\n",
       "      <td>None</td>\n",
       "      <td></td>\n",
       "    </tr>\n",
       "    <tr>\n",
       "      <th>45345</th>\n",
       "      <td>Star Spangled Girl</td>\n",
       "      <td>I may be provincial and old-fashioned. I may b...</td>\n",
       "      <td>None</td>\n",
       "      <td>Comedy</td>\n",
       "    </tr>\n",
       "  </tbody>\n",
       "</table>\n",
       "<p>45346 rows × 4 columns</p>\n",
       "</div>"
      ],
      "text/plain": [
       "                      title  \\\n",
       "0                   Minions   \n",
       "1              Wonder Woman   \n",
       "2      Beauty and the Beast   \n",
       "3               Baby Driver   \n",
       "4                Big Hero 6   \n",
       "...                     ...   \n",
       "45341  At the River I Stand   \n",
       "45342         Narrien Illat   \n",
       "45343            The Winner   \n",
       "45344                 Raakh   \n",
       "45345    Star Spangled Girl   \n",
       "\n",
       "                                                overview  \\\n",
       "0      Minions Stuart, Kevin and Bob are recruited by...   \n",
       "1      An Amazon princess comes to the world of Man t...   \n",
       "2      A live-action adaptation of Disney's version o...   \n",
       "3      After being coerced into working for a crime b...   \n",
       "4      The special bond that develops between plus-si...   \n",
       "...                                                  ...   \n",
       "45341  This moving documentary recounts the two month...   \n",
       "45342  The ups and downs of the popular music world a...   \n",
       "45343  Tou former boxers meet in the ring again after...   \n",
       "45344  After witnessing the public humiliation &amp; ...   \n",
       "45345  I may be provincial and old-fashioned. I may b...   \n",
       "\n",
       "          belongs_to_collection                                   genres1  \n",
       "0      Despicable Me Collection         Family Animation Adventure Comedy  \n",
       "1       Wonder Woman Collection                  Action Adventure Fantasy  \n",
       "2                          None                    Family Fantasy Romance  \n",
       "3                          None                              Action Crime  \n",
       "4                          None  Adventure Family Animation Action Comedy  \n",
       "...                         ...                                       ...  \n",
       "45341                      None                                            \n",
       "45342                      None                        Comedy Drama Music  \n",
       "45343                      None                     Drama Romance Foreign  \n",
       "45344                      None                                            \n",
       "45345                      None                                    Comedy  \n",
       "\n",
       "[45346 rows x 4 columns]"
      ]
     },
     "execution_count": 42,
     "metadata": {},
     "output_type": "execute_result"
    }
   ],
   "source": [
    "data_ml"
   ]
  },
  {
   "cell_type": "code",
   "execution_count": 43,
   "metadata": {},
   "outputs": [
    {
     "name": "stderr",
     "output_type": "stream",
     "text": [
      "[nltk_data] Downloading package stopwords to\n",
      "[nltk_data]     C:\\Users\\felix\\AppData\\Roaming\\nltk_data...\n",
      "[nltk_data]   Package stopwords is already up-to-date!\n",
      "[nltk_data] Downloading package punkt to\n",
      "[nltk_data]     C:\\Users\\felix\\AppData\\Roaming\\nltk_data...\n",
      "[nltk_data]   Package punkt is already up-to-date!\n",
      "[nltk_data] Downloading package stopwords to\n",
      "[nltk_data]     C:\\Users\\felix\\AppData\\Roaming\\nltk_data...\n",
      "[nltk_data]   Package stopwords is already up-to-date!\n"
     ]
    },
    {
     "data": {
      "text/plain": [
       "True"
      ]
     },
     "execution_count": 43,
     "metadata": {},
     "output_type": "execute_result"
    }
   ],
   "source": [
    "import nltk\n",
    "\n",
    "nltk.download('stopwords')\n",
    "nltk.download('punkt')\n",
    "nltk.download('stopwords')"
   ]
  },
  {
   "cell_type": "code",
   "execution_count": 44,
   "metadata": {},
   "outputs": [
    {
     "name": "stderr",
     "output_type": "stream",
     "text": [
      "[nltk_data] Downloading package stopwords to\n",
      "[nltk_data]     C:\\Users\\felix\\AppData\\Roaming\\nltk_data...\n",
      "[nltk_data]   Package stopwords is already up-to-date!\n",
      "C:\\Users\\felix\\AppData\\Local\\Temp\\ipykernel_24292\\779913855.py:9: SettingWithCopyWarning: \n",
      "A value is trying to be set on a copy of a slice from a DataFrame.\n",
      "Try using .loc[row_indexer,col_indexer] = value instead\n",
      "\n",
      "See the caveats in the documentation: https://pandas.pydata.org/pandas-docs/stable/user_guide/indexing.html#returning-a-view-versus-a-copy\n",
      "  data_ml['overview'] = data_ml['overview'].astype(str).str.lower()\n",
      "C:\\Users\\felix\\AppData\\Local\\Temp\\ipykernel_24292\\779913855.py:10: SettingWithCopyWarning: \n",
      "A value is trying to be set on a copy of a slice from a DataFrame.\n",
      "Try using .loc[row_indexer,col_indexer] = value instead\n",
      "\n",
      "See the caveats in the documentation: https://pandas.pydata.org/pandas-docs/stable/user_guide/indexing.html#returning-a-view-versus-a-copy\n",
      "  data_ml['title'] = data_ml['title'].astype(str).str.lower()\n",
      "C:\\Users\\felix\\AppData\\Local\\Temp\\ipykernel_24292\\779913855.py:11: SettingWithCopyWarning: \n",
      "A value is trying to be set on a copy of a slice from a DataFrame.\n",
      "Try using .loc[row_indexer,col_indexer] = value instead\n",
      "\n",
      "See the caveats in the documentation: https://pandas.pydata.org/pandas-docs/stable/user_guide/indexing.html#returning-a-view-versus-a-copy\n",
      "  data_ml['belongs_to_collection'] = data_ml['belongs_to_collection'].astype(str).str.lower()\n",
      "C:\\Users\\felix\\AppData\\Local\\Temp\\ipykernel_24292\\779913855.py:12: SettingWithCopyWarning: \n",
      "A value is trying to be set on a copy of a slice from a DataFrame.\n",
      "Try using .loc[row_indexer,col_indexer] = value instead\n",
      "\n",
      "See the caveats in the documentation: https://pandas.pydata.org/pandas-docs/stable/user_guide/indexing.html#returning-a-view-versus-a-copy\n",
      "  data_ml['genres1'] = data_ml['genres1'].astype(str).str.lower()\n",
      "C:\\Users\\felix\\AppData\\Local\\Temp\\ipykernel_24292\\779913855.py:15: SettingWithCopyWarning: \n",
      "A value is trying to be set on a copy of a slice from a DataFrame.\n",
      "Try using .loc[row_indexer,col_indexer] = value instead\n",
      "\n",
      "See the caveats in the documentation: https://pandas.pydata.org/pandas-docs/stable/user_guide/indexing.html#returning-a-view-versus-a-copy\n",
      "  data_ml['overview'] = data_ml['overview'].apply(lambda x: re.sub(r'[^a-zA-Z]', ' ', x))\n",
      "C:\\Users\\felix\\AppData\\Local\\Temp\\ipykernel_24292\\779913855.py:16: SettingWithCopyWarning: \n",
      "A value is trying to be set on a copy of a slice from a DataFrame.\n",
      "Try using .loc[row_indexer,col_indexer] = value instead\n",
      "\n",
      "See the caveats in the documentation: https://pandas.pydata.org/pandas-docs/stable/user_guide/indexing.html#returning-a-view-versus-a-copy\n",
      "  data_ml['title'] = data_ml['title'].apply(lambda x: re.sub(r'[^a-zA-Z]', ' ', x))\n",
      "C:\\Users\\felix\\AppData\\Local\\Temp\\ipykernel_24292\\779913855.py:17: SettingWithCopyWarning: \n",
      "A value is trying to be set on a copy of a slice from a DataFrame.\n",
      "Try using .loc[row_indexer,col_indexer] = value instead\n",
      "\n",
      "See the caveats in the documentation: https://pandas.pydata.org/pandas-docs/stable/user_guide/indexing.html#returning-a-view-versus-a-copy\n",
      "  data_ml['belongs_to_collection'] = data_ml['belongs_to_collection'].apply(lambda x: re.sub(r'[^a-zA-Z]', ' ', x))\n",
      "C:\\Users\\felix\\AppData\\Local\\Temp\\ipykernel_24292\\779913855.py:18: SettingWithCopyWarning: \n",
      "A value is trying to be set on a copy of a slice from a DataFrame.\n",
      "Try using .loc[row_indexer,col_indexer] = value instead\n",
      "\n",
      "See the caveats in the documentation: https://pandas.pydata.org/pandas-docs/stable/user_guide/indexing.html#returning-a-view-versus-a-copy\n",
      "  data_ml['genres1'] = data_ml['genres1'].apply(lambda x: re.sub(r'[^a-zA-Z]', ' ', x))\n",
      "C:\\Users\\felix\\AppData\\Local\\Temp\\ipykernel_24292\\779913855.py:22: SettingWithCopyWarning: \n",
      "A value is trying to be set on a copy of a slice from a DataFrame.\n",
      "Try using .loc[row_indexer,col_indexer] = value instead\n",
      "\n",
      "See the caveats in the documentation: https://pandas.pydata.org/pandas-docs/stable/user_guide/indexing.html#returning-a-view-versus-a-copy\n",
      "  data_ml['overview'] = data_ml['overview'].apply(lambda x: ' '.join([word for word in word_tokenize(x) if word.lower() not in stop_words]))\n",
      "C:\\Users\\felix\\AppData\\Local\\Temp\\ipykernel_24292\\779913855.py:23: SettingWithCopyWarning: \n",
      "A value is trying to be set on a copy of a slice from a DataFrame.\n",
      "Try using .loc[row_indexer,col_indexer] = value instead\n",
      "\n",
      "See the caveats in the documentation: https://pandas.pydata.org/pandas-docs/stable/user_guide/indexing.html#returning-a-view-versus-a-copy\n",
      "  data_ml['title'] = data_ml['title'].apply(lambda x: ' '.join([word for word in word_tokenize(x) if word.lower() not in stop_words]))\n",
      "C:\\Users\\felix\\AppData\\Local\\Temp\\ipykernel_24292\\779913855.py:24: SettingWithCopyWarning: \n",
      "A value is trying to be set on a copy of a slice from a DataFrame.\n",
      "Try using .loc[row_indexer,col_indexer] = value instead\n",
      "\n",
      "See the caveats in the documentation: https://pandas.pydata.org/pandas-docs/stable/user_guide/indexing.html#returning-a-view-versus-a-copy\n",
      "  data_ml['belongs_to_collection'] = data_ml['belongs_to_collection'].apply(lambda x: ' '.join([word for word in word_tokenize(x) if word.lower() not in stop_words]))\n",
      "C:\\Users\\felix\\AppData\\Local\\Temp\\ipykernel_24292\\779913855.py:25: SettingWithCopyWarning: \n",
      "A value is trying to be set on a copy of a slice from a DataFrame.\n",
      "Try using .loc[row_indexer,col_indexer] = value instead\n",
      "\n",
      "See the caveats in the documentation: https://pandas.pydata.org/pandas-docs/stable/user_guide/indexing.html#returning-a-view-versus-a-copy\n",
      "  data_ml['genres1'] = data_ml['genres1'].apply(lambda x: ' '.join([word for word in word_tokenize(x) if word.lower() not in stop_words]))\n"
     ]
    }
   ],
   "source": [
    "import re\n",
    "from nltk.corpus import stopwords\n",
    "from nltk.tokenize import word_tokenize\n",
    "import nltk\n",
    "\n",
    "nltk.download('stopwords')\n",
    "\n",
    "# Convertir todas las columnas de texto a minúsculas\n",
    "data_ml['overview'] = data_ml['overview'].astype(str).str.lower()\n",
    "data_ml['title'] = data_ml['title'].astype(str).str.lower()\n",
    "data_ml['belongs_to_collection'] = data_ml['belongs_to_collection'].astype(str).str.lower()\n",
    "data_ml['genres1'] = data_ml['genres1'].astype(str).str.lower()\n",
    "\n",
    "# Eliminar caracteres no deseados en todas las columnas\n",
    "data_ml['overview'] = data_ml['overview'].apply(lambda x: re.sub(r'[^a-zA-Z]', ' ', x))\n",
    "data_ml['title'] = data_ml['title'].apply(lambda x: re.sub(r'[^a-zA-Z]', ' ', x))\n",
    "data_ml['belongs_to_collection'] = data_ml['belongs_to_collection'].apply(lambda x: re.sub(r'[^a-zA-Z]', ' ', x))\n",
    "data_ml['genres1'] = data_ml['genres1'].apply(lambda x: re.sub(r'[^a-zA-Z]', ' ', x))\n",
    "\n",
    "# Eliminar palabras vacías (stop words) en todas las columnas\n",
    "stop_words = set(stopwords.words('english'))\n",
    "data_ml['overview'] = data_ml['overview'].apply(lambda x: ' '.join([word for word in word_tokenize(x) if word.lower() not in stop_words]))\n",
    "data_ml['title'] = data_ml['title'].apply(lambda x: ' '.join([word for word in word_tokenize(x) if word.lower() not in stop_words]))\n",
    "data_ml['belongs_to_collection'] = data_ml['belongs_to_collection'].apply(lambda x: ' '.join([word for word in word_tokenize(x) if word.lower() not in stop_words]))\n",
    "data_ml['genres1'] = data_ml['genres1'].apply(lambda x: ' '.join([word for word in word_tokenize(x) if word.lower() not in stop_words]))"
   ]
  },
  {
   "cell_type": "code",
   "execution_count": 45,
   "metadata": {},
   "outputs": [
    {
     "data": {
      "text/html": [
       "<div>\n",
       "<style scoped>\n",
       "    .dataframe tbody tr th:only-of-type {\n",
       "        vertical-align: middle;\n",
       "    }\n",
       "\n",
       "    .dataframe tbody tr th {\n",
       "        vertical-align: top;\n",
       "    }\n",
       "\n",
       "    .dataframe thead th {\n",
       "        text-align: right;\n",
       "    }\n",
       "</style>\n",
       "<table border=\"1\" class=\"dataframe\">\n",
       "  <thead>\n",
       "    <tr style=\"text-align: right;\">\n",
       "      <th></th>\n",
       "      <th>title</th>\n",
       "      <th>overview</th>\n",
       "      <th>belongs_to_collection</th>\n",
       "      <th>genres1</th>\n",
       "    </tr>\n",
       "  </thead>\n",
       "  <tbody>\n",
       "    <tr>\n",
       "      <th>0</th>\n",
       "      <td>minions</td>\n",
       "      <td>minions stuart kevin bob recruited scarlet ove...</td>\n",
       "      <td>despicable collection</td>\n",
       "      <td>family animation adventure comedy</td>\n",
       "    </tr>\n",
       "    <tr>\n",
       "      <th>1</th>\n",
       "      <td>wonder woman</td>\n",
       "      <td>amazon princess comes world man become greates...</td>\n",
       "      <td>wonder woman collection</td>\n",
       "      <td>action adventure fantasy</td>\n",
       "    </tr>\n",
       "    <tr>\n",
       "      <th>2</th>\n",
       "      <td>beauty beast</td>\n",
       "      <td>live action adaptation disney version classic ...</td>\n",
       "      <td>none</td>\n",
       "      <td>family fantasy romance</td>\n",
       "    </tr>\n",
       "    <tr>\n",
       "      <th>3</th>\n",
       "      <td>baby driver</td>\n",
       "      <td>coerced working crime boss young getaway drive...</td>\n",
       "      <td>none</td>\n",
       "      <td>action crime</td>\n",
       "    </tr>\n",
       "    <tr>\n",
       "      <th>4</th>\n",
       "      <td>big hero</td>\n",
       "      <td>special bond develops plus sized inflatable ro...</td>\n",
       "      <td>none</td>\n",
       "      <td>adventure family animation action comedy</td>\n",
       "    </tr>\n",
       "    <tr>\n",
       "      <th>...</th>\n",
       "      <td>...</td>\n",
       "      <td>...</td>\n",
       "      <td>...</td>\n",
       "      <td>...</td>\n",
       "    </tr>\n",
       "    <tr>\n",
       "      <th>45341</th>\n",
       "      <td>river stand</td>\n",
       "      <td>moving documentary recounts two months leading...</td>\n",
       "      <td>none</td>\n",
       "      <td></td>\n",
       "    </tr>\n",
       "    <tr>\n",
       "      <th>45342</th>\n",
       "      <td>narrien illat</td>\n",
       "      <td>ups downs popular music world revealed singer</td>\n",
       "      <td>none</td>\n",
       "      <td>comedy drama music</td>\n",
       "    </tr>\n",
       "    <tr>\n",
       "      <th>45343</th>\n",
       "      <td>winner</td>\n",
       "      <td>tou former boxers meet ring years run old matc...</td>\n",
       "      <td>none</td>\n",
       "      <td>drama romance foreign</td>\n",
       "    </tr>\n",
       "    <tr>\n",
       "      <th>45344</th>\n",
       "      <td>raakh</td>\n",
       "      <td>witnessing public humiliation amp abuse female...</td>\n",
       "      <td>none</td>\n",
       "      <td></td>\n",
       "    </tr>\n",
       "    <tr>\n",
       "      <th>45345</th>\n",
       "      <td>star spangled girl</td>\n",
       "      <td>may provincial old fashioned may believe lot d...</td>\n",
       "      <td>none</td>\n",
       "      <td>comedy</td>\n",
       "    </tr>\n",
       "  </tbody>\n",
       "</table>\n",
       "<p>45346 rows × 4 columns</p>\n",
       "</div>"
      ],
      "text/plain": [
       "                    title                                           overview  \\\n",
       "0                 minions  minions stuart kevin bob recruited scarlet ove...   \n",
       "1            wonder woman  amazon princess comes world man become greates...   \n",
       "2            beauty beast  live action adaptation disney version classic ...   \n",
       "3             baby driver  coerced working crime boss young getaway drive...   \n",
       "4                big hero  special bond develops plus sized inflatable ro...   \n",
       "...                   ...                                                ...   \n",
       "45341         river stand  moving documentary recounts two months leading...   \n",
       "45342       narrien illat      ups downs popular music world revealed singer   \n",
       "45343              winner  tou former boxers meet ring years run old matc...   \n",
       "45344               raakh  witnessing public humiliation amp abuse female...   \n",
       "45345  star spangled girl  may provincial old fashioned may believe lot d...   \n",
       "\n",
       "         belongs_to_collection                                   genres1  \n",
       "0        despicable collection         family animation adventure comedy  \n",
       "1      wonder woman collection                  action adventure fantasy  \n",
       "2                         none                    family fantasy romance  \n",
       "3                         none                              action crime  \n",
       "4                         none  adventure family animation action comedy  \n",
       "...                        ...                                       ...  \n",
       "45341                     none                                            \n",
       "45342                     none                        comedy drama music  \n",
       "45343                     none                     drama romance foreign  \n",
       "45344                     none                                            \n",
       "45345                     none                                    comedy  \n",
       "\n",
       "[45346 rows x 4 columns]"
      ]
     },
     "execution_count": 45,
     "metadata": {},
     "output_type": "execute_result"
    }
   ],
   "source": [
    "data_ml"
   ]
  },
  {
   "cell_type": "code",
   "execution_count": 63,
   "metadata": {},
   "outputs": [],
   "source": [
    "#data_ml.to_csv('data_ml.csv', index=False)"
   ]
  },
  {
   "cell_type": "code",
   "execution_count": 2,
   "metadata": {},
   "outputs": [],
   "source": [
    "data_ml = pd.read_csv('C:\\project_mlops\\datasets\\data_ml.csv')"
   ]
  },
  {
   "cell_type": "code",
   "execution_count": 3,
   "metadata": {},
   "outputs": [],
   "source": [
    "data_ml['combined_text'] = data_ml['overview'] + ' ' + data_ml['title'] + ' ' + data_ml['belongs_to_collection'] + ' ' + data_ml['genres1']\n"
   ]
  },
  {
   "cell_type": "code",
   "execution_count": null,
   "metadata": {},
   "outputs": [],
   "source": []
  },
  {
   "cell_type": "code",
   "execution_count": 23,
   "metadata": {},
   "outputs": [],
   "source": [
    "data_ml = data_ml.dropna(subset=['combined_text'])\n",
    "data_ml = data_ml.reset_index(drop=True)"
   ]
  },
  {
   "cell_type": "code",
   "execution_count": 31,
   "metadata": {},
   "outputs": [],
   "source": [
    "data_ML = data_ml[['title','combined_text']]"
   ]
  },
  {
   "cell_type": "code",
   "execution_count": 32,
   "metadata": {},
   "outputs": [],
   "source": [
    "data_ML.to_csv('data_ML.csv', index=False)"
   ]
  },
  {
   "cell_type": "code",
   "execution_count": 2,
   "metadata": {},
   "outputs": [],
   "source": [
    "import pandas as pd"
   ]
  },
  {
   "cell_type": "code",
   "execution_count": 3,
   "metadata": {},
   "outputs": [],
   "source": [
    "data_ml = pd.read_csv('C:\\project_mlops\\datasets\\data_ML.csv')"
   ]
  },
  {
   "cell_type": "code",
   "execution_count": 6,
   "metadata": {},
   "outputs": [],
   "source": [
    "import re\n",
    "from sklearn.feature_extraction.text import TfidfVectorizer\n",
    "from sklearn.neighbors import NearestNeighbors\n",
    "\n",
    "vectorizer = TfidfVectorizer(stop_words='english')\n",
    "vectorized_data = vectorizer.fit_transform(data_ml['combined_text'])"
   ]
  },
  {
   "cell_type": "code",
   "execution_count": 7,
   "metadata": {},
   "outputs": [
    {
     "data": {
      "text/html": [
       "<style>#sk-container-id-1 {color: black;background-color: white;}#sk-container-id-1 pre{padding: 0;}#sk-container-id-1 div.sk-toggleable {background-color: white;}#sk-container-id-1 label.sk-toggleable__label {cursor: pointer;display: block;width: 100%;margin-bottom: 0;padding: 0.3em;box-sizing: border-box;text-align: center;}#sk-container-id-1 label.sk-toggleable__label-arrow:before {content: \"▸\";float: left;margin-right: 0.25em;color: #696969;}#sk-container-id-1 label.sk-toggleable__label-arrow:hover:before {color: black;}#sk-container-id-1 div.sk-estimator:hover label.sk-toggleable__label-arrow:before {color: black;}#sk-container-id-1 div.sk-toggleable__content {max-height: 0;max-width: 0;overflow: hidden;text-align: left;background-color: #f0f8ff;}#sk-container-id-1 div.sk-toggleable__content pre {margin: 0.2em;color: black;border-radius: 0.25em;background-color: #f0f8ff;}#sk-container-id-1 input.sk-toggleable__control:checked~div.sk-toggleable__content {max-height: 200px;max-width: 100%;overflow: auto;}#sk-container-id-1 input.sk-toggleable__control:checked~label.sk-toggleable__label-arrow:before {content: \"▾\";}#sk-container-id-1 div.sk-estimator input.sk-toggleable__control:checked~label.sk-toggleable__label {background-color: #d4ebff;}#sk-container-id-1 div.sk-label input.sk-toggleable__control:checked~label.sk-toggleable__label {background-color: #d4ebff;}#sk-container-id-1 input.sk-hidden--visually {border: 0;clip: rect(1px 1px 1px 1px);clip: rect(1px, 1px, 1px, 1px);height: 1px;margin: -1px;overflow: hidden;padding: 0;position: absolute;width: 1px;}#sk-container-id-1 div.sk-estimator {font-family: monospace;background-color: #f0f8ff;border: 1px dotted black;border-radius: 0.25em;box-sizing: border-box;margin-bottom: 0.5em;}#sk-container-id-1 div.sk-estimator:hover {background-color: #d4ebff;}#sk-container-id-1 div.sk-parallel-item::after {content: \"\";width: 100%;border-bottom: 1px solid gray;flex-grow: 1;}#sk-container-id-1 div.sk-label:hover label.sk-toggleable__label {background-color: #d4ebff;}#sk-container-id-1 div.sk-serial::before {content: \"\";position: absolute;border-left: 1px solid gray;box-sizing: border-box;top: 0;bottom: 0;left: 50%;z-index: 0;}#sk-container-id-1 div.sk-serial {display: flex;flex-direction: column;align-items: center;background-color: white;padding-right: 0.2em;padding-left: 0.2em;position: relative;}#sk-container-id-1 div.sk-item {position: relative;z-index: 1;}#sk-container-id-1 div.sk-parallel {display: flex;align-items: stretch;justify-content: center;background-color: white;position: relative;}#sk-container-id-1 div.sk-item::before, #sk-container-id-1 div.sk-parallel-item::before {content: \"\";position: absolute;border-left: 1px solid gray;box-sizing: border-box;top: 0;bottom: 0;left: 50%;z-index: -1;}#sk-container-id-1 div.sk-parallel-item {display: flex;flex-direction: column;z-index: 1;position: relative;background-color: white;}#sk-container-id-1 div.sk-parallel-item:first-child::after {align-self: flex-end;width: 50%;}#sk-container-id-1 div.sk-parallel-item:last-child::after {align-self: flex-start;width: 50%;}#sk-container-id-1 div.sk-parallel-item:only-child::after {width: 0;}#sk-container-id-1 div.sk-dashed-wrapped {border: 1px dashed gray;margin: 0 0.4em 0.5em 0.4em;box-sizing: border-box;padding-bottom: 0.4em;background-color: white;}#sk-container-id-1 div.sk-label label {font-family: monospace;font-weight: bold;display: inline-block;line-height: 1.2em;}#sk-container-id-1 div.sk-label-container {text-align: center;}#sk-container-id-1 div.sk-container {/* jupyter's `normalize.less` sets `[hidden] { display: none; }` but bootstrap.min.css set `[hidden] { display: none !important; }` so we also need the `!important` here to be able to override the default hidden behavior on the sphinx rendered scikit-learn.org. See: https://github.com/scikit-learn/scikit-learn/issues/21755 */display: inline-block !important;position: relative;}#sk-container-id-1 div.sk-text-repr-fallback {display: none;}</style><div id=\"sk-container-id-1\" class=\"sk-top-container\"><div class=\"sk-text-repr-fallback\"><pre>NearestNeighbors(algorithm=&#x27;brute&#x27;, metric=&#x27;cosine&#x27;)</pre><b>In a Jupyter environment, please rerun this cell to show the HTML representation or trust the notebook. <br />On GitHub, the HTML representation is unable to render, please try loading this page with nbviewer.org.</b></div><div class=\"sk-container\" hidden><div class=\"sk-item\"><div class=\"sk-estimator sk-toggleable\"><input class=\"sk-toggleable__control sk-hidden--visually\" id=\"sk-estimator-id-1\" type=\"checkbox\" checked><label for=\"sk-estimator-id-1\" class=\"sk-toggleable__label sk-toggleable__label-arrow\">NearestNeighbors</label><div class=\"sk-toggleable__content\"><pre>NearestNeighbors(algorithm=&#x27;brute&#x27;, metric=&#x27;cosine&#x27;)</pre></div></div></div></div></div>"
      ],
      "text/plain": [
       "NearestNeighbors(algorithm='brute', metric='cosine')"
      ]
     },
     "execution_count": 7,
     "metadata": {},
     "output_type": "execute_result"
    }
   ],
   "source": [
    "knn = NearestNeighbors(metric='cosine', algorithm='brute')\n",
    "knn.fit(vectorized_data)"
   ]
  },
  {
   "cell_type": "code",
   "execution_count": 23,
   "metadata": {},
   "outputs": [],
   "source": [
    "# Crear y ajustar el modelo KNN fuera de la función\n",
    "knn_model = NearestNeighbors(metric='cosine', algorithm='brute')\n",
    "knn_model.fit(vectorized_data)\n",
    "import re\n",
    "\n",
    "# Compilar la expresión regular fuera de la función\n",
    "regex = re.compile(r'[^a-zA-Z]')\n",
    "def get_recomendations(title, modelo=knn_model, regex=regex):\n",
    "    \n",
    "    # Preprocesamiento del título\n",
    "    processed_title = re.sub(r'[^a-zA-Z]', ' ', title.lower())\n",
    "    \n",
    "    # Obtener índice de la película de consulta\n",
    "    index = data_ml[data_ml['title'].str.lower() == processed_title].index[0]\n",
    "    \n",
    "    # Numero de recomendaciones\n",
    "    num_recomen=5\n",
    "    \n",
    "    # Obtener recomendaciones basadas en el índice de consulta\n",
    "    _, indices = knn_model.kneighbors(vectorized_data[index], n_neighbors=num_recomen+1)\n",
    "    \n",
    "    # Obtener índices de las películas recomendadas\n",
    "    index_title = indices.flatten()[1:]\n",
    "    \n",
    "    # Devolver una estructura de diccionario con los títulos recomendados\n",
    "    result = {'lista recomendada': [title.title() for title in data_ml['title'].iloc[index_title].tolist()]}\n",
    "\n",
    "    return result"
   ]
  },
  {
   "cell_type": "code",
   "execution_count": 25,
   "metadata": {},
   "outputs": [
    {
     "name": "stdout",
     "output_type": "stream",
     "text": [
      "{'lista recomendada': ['Shrek', 'Shrek Third', 'Shrek Forever', 'Shrek Halls', 'Scared Shrekless']}\n"
     ]
    }
   ],
   "source": [
    "titulo = input('Ingrese un título: ')\n",
    "recomendacion = get_recomendations(titulo)\n",
    "print(recomendacion)"
   ]
  }
 ],
 "metadata": {
  "kernelspec": {
   "display_name": "env",
   "language": "python",
   "name": "python3"
  },
  "language_info": {
   "codemirror_mode": {
    "name": "ipython",
    "version": 3
   },
   "file_extension": ".py",
   "mimetype": "text/x-python",
   "name": "python",
   "nbconvert_exporter": "python",
   "pygments_lexer": "ipython3",
   "version": "3.10.11"
  },
  "orig_nbformat": 4
 },
 "nbformat": 4,
 "nbformat_minor": 2
}
