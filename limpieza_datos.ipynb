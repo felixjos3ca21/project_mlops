{
 "cells": [
  {
   "cell_type": "code",
   "execution_count": 1,
   "metadata": {},
   "outputs": [],
   "source": [
    "import pandas as pd\n",
    "import numpy as np\n"
   ]
  },
  {
   "cell_type": "code",
   "execution_count": 2,
   "metadata": {},
   "outputs": [
    {
     "name": "stderr",
     "output_type": "stream",
     "text": [
      "C:\\Users\\felix\\AppData\\Local\\Temp\\ipykernel_4976\\2923668066.py:5: DtypeWarning: Columns (10) have mixed types. Specify dtype option on import or set low_memory=False.\n",
      "  df2 = pd.read_csv(\"Dataset_procesado\\Dataset\\movies_dataset.csv\")\n"
     ]
    }
   ],
   "source": [
    "## se cargan los dataset\n",
    "\n",
    "df1 = pd.read_csv(\"Dataset_procesado\\Dataset\\credits.csv\")\n",
    "\n",
    "df2 = pd.read_csv(\"Dataset_procesado\\Dataset\\movies_dataset.csv\")\n",
    "\n",
    "## al proceder a la lectura nos da un  warning por lo que accedemos a la columna a ver que tipo de datos es "
   ]
  },
  {
   "cell_type": "code",
   "execution_count": 92,
   "metadata": {},
   "outputs": [
    {
     "data": {
      "text/plain": [
       "0           862\n",
       "1          8844\n",
       "2         15602\n",
       "3         31357\n",
       "4         11862\n",
       "          ...  \n",
       "45461    439050\n",
       "45462    111109\n",
       "45463     67758\n",
       "45464    227506\n",
       "45465    461257\n",
       "Name: id_movies, Length: 45433, dtype: object"
      ]
     },
     "execution_count": 92,
     "metadata": {},
     "output_type": "execute_result"
    }
   ],
   "source": [
    "df2['id_movies']"
   ]
  },
  {
   "cell_type": "code",
   "execution_count": 86,
   "metadata": {},
   "outputs": [
    {
     "data": {
      "text/html": [
       "<div>\n",
       "<style scoped>\n",
       "    .dataframe tbody tr th:only-of-type {\n",
       "        vertical-align: middle;\n",
       "    }\n",
       "\n",
       "    .dataframe tbody tr th {\n",
       "        vertical-align: top;\n",
       "    }\n",
       "\n",
       "    .dataframe thead th {\n",
       "        text-align: right;\n",
       "    }\n",
       "</style>\n",
       "<table border=\"1\" class=\"dataframe\">\n",
       "  <thead>\n",
       "    <tr style=\"text-align: right;\">\n",
       "      <th></th>\n",
       "      <th>cast</th>\n",
       "      <th>crew</th>\n",
       "      <th>id</th>\n",
       "    </tr>\n",
       "  </thead>\n",
       "  <tbody>\n",
       "    <tr>\n",
       "      <th>0</th>\n",
       "      <td>[{'cast_id': 14, 'character': 'Woody (voice)',...</td>\n",
       "      <td>[{'credit_id': '52fe4284c3a36847f8024f49', 'de...</td>\n",
       "      <td>862</td>\n",
       "    </tr>\n",
       "    <tr>\n",
       "      <th>1</th>\n",
       "      <td>[{'cast_id': 1, 'character': 'Alan Parrish', '...</td>\n",
       "      <td>[{'credit_id': '52fe44bfc3a36847f80a7cd1', 'de...</td>\n",
       "      <td>8844</td>\n",
       "    </tr>\n",
       "  </tbody>\n",
       "</table>\n",
       "</div>"
      ],
      "text/plain": [
       "                                                cast  \\\n",
       "0  [{'cast_id': 14, 'character': 'Woody (voice)',...   \n",
       "1  [{'cast_id': 1, 'character': 'Alan Parrish', '...   \n",
       "\n",
       "                                                crew    id  \n",
       "0  [{'credit_id': '52fe4284c3a36847f8024f49', 'de...   862  \n",
       "1  [{'credit_id': '52fe44bfc3a36847f80a7cd1', 'de...  8844  "
      ]
     },
     "execution_count": 86,
     "metadata": {},
     "output_type": "execute_result"
    }
   ],
   "source": [
    "df1.head(2)"
   ]
  },
  {
   "cell_type": "code",
   "execution_count": 112,
   "metadata": {},
   "outputs": [
    {
     "data": {
      "text/plain": [
       "(45463, 24)"
      ]
     },
     "execution_count": 112,
     "metadata": {},
     "output_type": "execute_result"
    }
   ],
   "source": [
    "df2.shape"
   ]
  },
  {
   "cell_type": "code",
   "execution_count": 100,
   "metadata": {},
   "outputs": [
    {
     "data": {
      "text/html": [
       "<div>\n",
       "<style scoped>\n",
       "    .dataframe tbody tr th:only-of-type {\n",
       "        vertical-align: middle;\n",
       "    }\n",
       "\n",
       "    .dataframe tbody tr th {\n",
       "        vertical-align: top;\n",
       "    }\n",
       "\n",
       "    .dataframe thead th {\n",
       "        text-align: right;\n",
       "    }\n",
       "</style>\n",
       "<table border=\"1\" class=\"dataframe\">\n",
       "  <thead>\n",
       "    <tr style=\"text-align: right;\">\n",
       "      <th></th>\n",
       "      <th>adult</th>\n",
       "      <th>belongs_to_collection</th>\n",
       "      <th>budget</th>\n",
       "      <th>genres</th>\n",
       "      <th>homepage</th>\n",
       "      <th>id_movies</th>\n",
       "      <th>imdb_id</th>\n",
       "      <th>original_language</th>\n",
       "      <th>original_title</th>\n",
       "      <th>overview</th>\n",
       "      <th>...</th>\n",
       "      <th>release_date</th>\n",
       "      <th>revenue</th>\n",
       "      <th>runtime</th>\n",
       "      <th>spoken_languages</th>\n",
       "      <th>status</th>\n",
       "      <th>tagline</th>\n",
       "      <th>title</th>\n",
       "      <th>video</th>\n",
       "      <th>vote_average</th>\n",
       "      <th>vote_count</th>\n",
       "    </tr>\n",
       "  </thead>\n",
       "  <tbody>\n",
       "  </tbody>\n",
       "</table>\n",
       "<p>0 rows × 24 columns</p>\n",
       "</div>"
      ],
      "text/plain": [
       "Empty DataFrame\n",
       "Columns: [adult, belongs_to_collection, budget, genres, homepage, id_movies, imdb_id, original_language, original_title, overview, popularity, poster_path, production_companies, production_countries, release_date, revenue, runtime, spoken_languages, status, tagline, title, video, vote_average, vote_count]\n",
       "Index: []\n",
       "\n",
       "[0 rows x 24 columns]"
      ]
     },
     "execution_count": 100,
     "metadata": {},
     "output_type": "execute_result"
    }
   ],
   "source": [
    "# Marcar las filas duplicadas en la columna 'id'\n",
    "duplicados = df2['id_movies'].duplicated(keep=False)\n",
    "\n",
    "# Obtener los índices de las filas duplicadas\n",
    "indices_duplicados = df2[duplicados]\n",
    "\n",
    "# Imprimir los índices de las filas duplicadas\n",
    "indices_duplicados"
   ]
  },
  {
   "cell_type": "code",
   "execution_count": null,
   "metadata": {},
   "outputs": [],
   "source": []
  },
  {
   "cell_type": "code",
   "execution_count": 12,
   "metadata": {},
   "outputs": [],
   "source": [
    "# Eliminar las filas duplicadas basadas en la columna 'id'\n",
    "df2 = df2.drop_duplicates(subset=['id'], keep='first')\n",
    "df2.rename(columns={'id':'id_movies'},inplace=True)\n"
   ]
  },
  {
   "cell_type": "code",
   "execution_count": 101,
   "metadata": {},
   "outputs": [
    {
     "data": {
      "text/plain": [
       "44"
      ]
     },
     "execution_count": 101,
     "metadata": {},
     "output_type": "execute_result"
    }
   ],
   "source": [
    "df1['id'].duplicated().sum()"
   ]
  },
  {
   "cell_type": "code",
   "execution_count": 94,
   "metadata": {},
   "outputs": [
    {
     "name": "stdout",
     "output_type": "stream",
     "text": [
      "(45476, 3)\n",
      "(45433, 24)\n",
      "Index(['cast', 'crew', 'id'], dtype='object')\n",
      "Index(['adult', 'belongs_to_collection', 'budget', 'genres', 'homepage',\n",
      "       'id_movies', 'imdb_id', 'original_language', 'original_title',\n",
      "       'overview', 'popularity', 'poster_path', 'production_companies',\n",
      "       'production_countries', 'release_date', 'revenue', 'runtime',\n",
      "       'spoken_languages', 'status', 'tagline', 'title', 'video',\n",
      "       'vote_average', 'vote_count'],\n",
      "      dtype='object')\n"
     ]
    }
   ],
   "source": [
    "#exploracion de los datasets\n",
    "print(df1.shape)\n",
    "print(df2.shape)\n",
    "print(df1.columns)\n",
    "print(df2.columns)\n"
   ]
  },
  {
   "cell_type": "code",
   "execution_count": 15,
   "metadata": {},
   "outputs": [
    {
     "name": "stdout",
     "output_type": "stream",
     "text": [
      "<class 'pandas.core.frame.DataFrame'>\n",
      "RangeIndex: 45476 entries, 0 to 45475\n",
      "Data columns (total 3 columns):\n",
      " #   Column  Non-Null Count  Dtype \n",
      "---  ------  --------------  ----- \n",
      " 0   cast    45476 non-null  object\n",
      " 1   crew    45476 non-null  object\n",
      " 2   id      45476 non-null  int64 \n",
      "dtypes: int64(1), object(2)\n",
      "memory usage: 1.0+ MB\n",
      "None\n",
      "<class 'pandas.core.frame.DataFrame'>\n",
      "Int64Index: 45436 entries, 0 to 45465\n",
      "Data columns (total 24 columns):\n",
      " #   Column                 Non-Null Count  Dtype  \n",
      "---  ------                 --------------  -----  \n",
      " 0   adult                  45436 non-null  object \n",
      " 1   belongs_to_collection  4491 non-null   object \n",
      " 2   budget                 45436 non-null  object \n",
      " 3   genres                 45436 non-null  object \n",
      " 4   homepage               7777 non-null   object \n",
      " 5   id_movies              45436 non-null  object \n",
      " 6   imdb_id                45419 non-null  object \n",
      " 7   original_language      45425 non-null  object \n",
      " 8   original_title         45436 non-null  object \n",
      " 9   overview               44482 non-null  object \n",
      " 10  popularity             45431 non-null  object \n",
      " 11  poster_path            45050 non-null  object \n",
      " 12  production_companies   45433 non-null  object \n",
      " 13  production_countries   45433 non-null  object \n",
      " 14  release_date           45349 non-null  object \n",
      " 15  revenue                45430 non-null  float64\n",
      " 16  runtime                45173 non-null  float64\n",
      " 17  spoken_languages       45430 non-null  object \n",
      " 18  status                 45349 non-null  object \n",
      " 19  tagline                20401 non-null  object \n",
      " 20  title                  45430 non-null  object \n",
      " 21  video                  45430 non-null  object \n",
      " 22  vote_average           45430 non-null  float64\n",
      " 23  vote_count             45430 non-null  float64\n",
      "dtypes: float64(4), object(20)\n",
      "memory usage: 8.7+ MB\n",
      "None\n"
     ]
    }
   ],
   "source": [
    "#conocer los tipos de datos que cada columna para proceder a su union\n",
    "print(df1.info())\n",
    "print(df2.info())"
   ]
  },
  {
   "cell_type": "code",
   "execution_count": 16,
   "metadata": {},
   "outputs": [],
   "source": [
    "#Al hacer union mediante la funcion de merge ocurre un error, por lo que procedemos a\n",
    "# cambiar el tipo de dato a la columna 'id'\n",
    "# Convertir la columna 'id' al tipo int64 en df2\n",
    "\n",
    "#df2['id'] = df2['id'].astype(int)\n",
    "\"\"\"\n",
    "al intentar convertir esta columna nos encontramos con un error, ya que, uno de los datos se encuentra en formato fecha\n",
    "#indice = df2['id'].eq('1997-08-20').idxmax()\n",
    "#indice\n",
    "#df2.loc[19730]\n",
    "#df2.loc[29503]\n",
    "df2.loc[35587]\n",
    "al conocer el indice observamos que informacion aporta al daset esa fila, al no ser importante se procede a eliminar\n",
    "\n",
    "\"\"\"\n",
    "df2 = df2.drop(index=19730)\n",
    "df2 = df2.drop(index=29503)\n",
    "df2 = df2.drop(index=35587)\n"
   ]
  },
  {
   "cell_type": "code",
   "execution_count": 17,
   "metadata": {},
   "outputs": [
    {
     "data": {
      "text/plain": [
       "Index(['cast', 'crew', 'id_credits', 'adult', 'belongs_to_collection',\n",
       "       'budget', 'genres', 'homepage', 'id_movies', 'imdb_id',\n",
       "       'original_language', 'original_title', 'overview', 'popularity',\n",
       "       'poster_path', 'production_companies', 'production_countries',\n",
       "       'release_date', 'revenue', 'runtime', 'spoken_languages', 'status',\n",
       "       'tagline', 'title', 'video', 'vote_average', 'vote_count'],\n",
       "      dtype='object')"
      ]
     },
     "execution_count": 17,
     "metadata": {},
     "output_type": "execute_result"
    }
   ],
   "source": [
    "# Procedemos a convertir la columna 'id' para unir ambos dataset\n",
    "#df2['id'] = df2['id'].astype(int)\n",
    "#UNION\n",
    "df_c = pd.concat([df1,df2], axis=1)\n",
    "df_c.rename(columns={'id':'id_credits'},inplace=True)\n",
    "df_c.columns"
   ]
  },
  {
   "cell_type": "code",
   "execution_count": 18,
   "metadata": {},
   "outputs": [
    {
     "data": {
      "text/plain": [
       "Index(['cast', 'crew', 'id_credits', 'belongs_to_collection', 'budget',\n",
       "       'genres', 'id_movies', 'original_language', 'overview', 'popularity',\n",
       "       'production_companies', 'production_countries', 'release_date',\n",
       "       'revenue', 'runtime', 'spoken_languages', 'status', 'tagline', 'title',\n",
       "       'vote_average', 'vote_count'],\n",
       "      dtype='object')"
      ]
     },
     "execution_count": 18,
     "metadata": {},
     "output_type": "execute_result"
    }
   ],
   "source": [
    "# eliminar las columnas que no necesitamos en el dataset\n",
    "#Definimos la columnas a eliminar\n",
    "col_dele = ['video','imdb_id','adult','original_title','poster_path','homepage']\n",
    "#se crea un dataframe nuevo sin esas columnas\n",
    "df = df_c.drop(columns=col_dele)\n",
    "df.columns"
   ]
  },
  {
   "cell_type": "code",
   "execution_count": 19,
   "metadata": {},
   "outputs": [
    {
     "name": "stdout",
     "output_type": "stream",
     "text": [
      "<class 'pandas.core.series.Series'>\n",
      "RangeIndex: 45476 entries, 0 to 45475\n",
      "Series name: cast\n",
      "Non-Null Count  Dtype \n",
      "--------------  ----- \n",
      "45476 non-null  object\n",
      "dtypes: object(1)\n",
      "memory usage: 355.4+ KB\n"
     ]
    }
   ],
   "source": [
    "df['cast'].info()"
   ]
  },
  {
   "cell_type": "code",
   "execution_count": 20,
   "metadata": {},
   "outputs": [
    {
     "name": "stdout",
     "output_type": "stream",
     "text": [
      "<class 'str'>\n"
     ]
    },
    {
     "data": {
      "text/plain": [
       "[\"[{'cast_id': 14, 'character': 'Woody (voice)', 'credit_id': '52fe4284c3a36847f8024f95', 'gender': 2, 'id': 31, 'name': 'Tom Hanks', 'order': 0, 'profile_path': '/pQFoyx7rp09CJTAb932F2g8Nlho.jpg'\",\n",
       " \", {'cast_id': 15, 'character': 'Buzz Lightyear (voice)', 'credit_id': '52fe4284c3a36847f8024f99', 'gender': 2, 'id': 12898, 'name': 'Tim Allen', 'order': 1, 'profile_path': '/uX2xVf6pMmPepxnvFWyBtjexzgY.jpg'\",\n",
       " \", {'cast_id': 16, 'character': 'Mr. Potato Head (voice)', 'credit_id': '52fe4284c3a36847f8024f9d', 'gender': 2, 'id': 7167, 'name': 'Don Rickles', 'order': 2, 'profile_path': '/h5BcaDMPRVLHLDzbQavec4xfSdt.jpg'\",\n",
       " \", {'cast_id': 17, 'character': 'Slinky Dog (voice)', 'credit_id': '52fe4284c3a36847f8024fa1', 'gender': 2, 'id': 12899, 'name': 'Jim Varney', 'order': 3, 'profile_path': '/eIo2jVVXYgjDtaHoF19Ll9vtW7h.jpg'\",\n",
       " \", {'cast_id': 18, 'character': 'Rex (voice)', 'credit_id': '52fe4284c3a36847f8024fa5', 'gender': 2, 'id': 12900, 'name': 'Wallace Shawn', 'order': 4, 'profile_path': '/oGE6JqPP2xH4tNORKNqxbNPYi7u.jpg'\",\n",
       " \", {'cast_id': 19, 'character': 'Hamm (voice)', 'credit_id': '52fe4284c3a36847f8024fa9', 'gender': 2, 'id': 7907, 'name': 'John Ratzenberger', 'order': 5, 'profile_path': '/yGechiKWL6TJDfVE2KPSJYqdMsY.jpg'\",\n",
       " \", {'cast_id': 20, 'character': 'Bo Peep (voice)', 'credit_id': '52fe4284c3a36847f8024fad', 'gender': 1, 'id': 8873, 'name': 'Annie Potts', 'order': 6, 'profile_path': '/eryXT84RL41jHSJcMy4kS3u9y6w.jpg'\",\n",
       " \", {'cast_id': 26, 'character': 'Andy (voice)', 'credit_id': '52fe4284c3a36847f8024fc1', 'gender': 0, 'id': 1116442, 'name': 'John Morris', 'order': 7, 'profile_path': '/vYGyvK4LzeaUCoNSHtsuqJUY15M.jpg'\",\n",
       " \", {'cast_id': 22, 'character': 'Sid (voice)', 'credit_id': '52fe4284c3a36847f8024fb1', 'gender': 2, 'id': 12901, 'name': 'Erik von Detten', 'order': 8, 'profile_path': '/twnF1ZaJ1FUNUuo6xLXwcxjayBE.jpg'\",\n",
       " \", {'cast_id': 23, 'character': 'Mrs. Davis (voice)', 'credit_id': '52fe4284c3a36847f8024fb5', 'gender': 1, 'id': 12133, 'name': 'Laurie Metcalf', 'order': 9, 'profile_path': '/unMMIT60eoBM2sN2nyR7EZ2BvvD.jpg'\",\n",
       " \", {'cast_id': 24, 'character': 'Sergeant (voice)', 'credit_id': '52fe4284c3a36847f8024fb9', 'gender': 2, 'id': 8655, 'name': 'R. Lee Ermey', 'order': 10, 'profile_path': '/r8GBqFBjypLUP9VVqDqfZ7wYbSs.jpg'\",\n",
       " \", {'cast_id': 25, 'character': 'Hannah (voice)', 'credit_id': '52fe4284c3a36847f8024fbd', 'gender': 1, 'id': 12903, 'name': 'Sarah Freeman', 'order': 11, 'profile_path': None\",\n",
       " \", {'cast_id': 27, 'character': 'TV Announcer (voice)', 'credit_id': '52fe4284c3a36847f8024fc5', 'gender': 2, 'id': 37221, 'name': 'Penn Jillette', 'order': 12, 'profile_path': '/zmAaXUdx12NRsssgHbk1T31j2x9.jpg'\",\n",
       " ']']"
      ]
     },
     "execution_count": 20,
     "metadata": {},
     "output_type": "execute_result"
    }
   ],
   "source": [
    "dato = df['cast'][0]\n",
    "dato_s = dato.split('}')\n",
    "print(type(dato))\n",
    "dato_s"
   ]
  },
  {
   "cell_type": "code",
   "execution_count": 21,
   "metadata": {},
   "outputs": [
    {
     "data": {
      "text/plain": [
       "[{'cast_id': 14,\n",
       "  'character': 'Woody (voice)',\n",
       "  'credit_id': '52fe4284c3a36847f8024f95',\n",
       "  'gender': 2,\n",
       "  'id': 31,\n",
       "  'name': 'Tom Hanks',\n",
       "  'order': 0,\n",
       "  'profile_path': '/pQFoyx7rp09CJTAb932F2g8Nlho.jpg'},\n",
       " {'cast_id': 15,\n",
       "  'character': 'Buzz Lightyear (voice)',\n",
       "  'credit_id': '52fe4284c3a36847f8024f99',\n",
       "  'gender': 2,\n",
       "  'id': 12898,\n",
       "  'name': 'Tim Allen',\n",
       "  'order': 1,\n",
       "  'profile_path': '/uX2xVf6pMmPepxnvFWyBtjexzgY.jpg'},\n",
       " {'cast_id': 16,\n",
       "  'character': 'Mr. Potato Head (voice)',\n",
       "  'credit_id': '52fe4284c3a36847f8024f9d',\n",
       "  'gender': 2,\n",
       "  'id': 7167,\n",
       "  'name': 'Don Rickles',\n",
       "  'order': 2,\n",
       "  'profile_path': '/h5BcaDMPRVLHLDzbQavec4xfSdt.jpg'},\n",
       " {'cast_id': 17,\n",
       "  'character': 'Slinky Dog (voice)',\n",
       "  'credit_id': '52fe4284c3a36847f8024fa1',\n",
       "  'gender': 2,\n",
       "  'id': 12899,\n",
       "  'name': 'Jim Varney',\n",
       "  'order': 3,\n",
       "  'profile_path': '/eIo2jVVXYgjDtaHoF19Ll9vtW7h.jpg'},\n",
       " {'cast_id': 18,\n",
       "  'character': 'Rex (voice)',\n",
       "  'credit_id': '52fe4284c3a36847f8024fa5',\n",
       "  'gender': 2,\n",
       "  'id': 12900,\n",
       "  'name': 'Wallace Shawn',\n",
       "  'order': 4,\n",
       "  'profile_path': '/oGE6JqPP2xH4tNORKNqxbNPYi7u.jpg'},\n",
       " {'cast_id': 19,\n",
       "  'character': 'Hamm (voice)',\n",
       "  'credit_id': '52fe4284c3a36847f8024fa9',\n",
       "  'gender': 2,\n",
       "  'id': 7907,\n",
       "  'name': 'John Ratzenberger',\n",
       "  'order': 5,\n",
       "  'profile_path': '/yGechiKWL6TJDfVE2KPSJYqdMsY.jpg'},\n",
       " {'cast_id': 20,\n",
       "  'character': 'Bo Peep (voice)',\n",
       "  'credit_id': '52fe4284c3a36847f8024fad',\n",
       "  'gender': 1,\n",
       "  'id': 8873,\n",
       "  'name': 'Annie Potts',\n",
       "  'order': 6,\n",
       "  'profile_path': '/eryXT84RL41jHSJcMy4kS3u9y6w.jpg'},\n",
       " {'cast_id': 26,\n",
       "  'character': 'Andy (voice)',\n",
       "  'credit_id': '52fe4284c3a36847f8024fc1',\n",
       "  'gender': 0,\n",
       "  'id': 1116442,\n",
       "  'name': 'John Morris',\n",
       "  'order': 7,\n",
       "  'profile_path': '/vYGyvK4LzeaUCoNSHtsuqJUY15M.jpg'},\n",
       " {'cast_id': 22,\n",
       "  'character': 'Sid (voice)',\n",
       "  'credit_id': '52fe4284c3a36847f8024fb1',\n",
       "  'gender': 2,\n",
       "  'id': 12901,\n",
       "  'name': 'Erik von Detten',\n",
       "  'order': 8,\n",
       "  'profile_path': '/twnF1ZaJ1FUNUuo6xLXwcxjayBE.jpg'},\n",
       " {'cast_id': 23,\n",
       "  'character': 'Mrs. Davis (voice)',\n",
       "  'credit_id': '52fe4284c3a36847f8024fb5',\n",
       "  'gender': 1,\n",
       "  'id': 12133,\n",
       "  'name': 'Laurie Metcalf',\n",
       "  'order': 9,\n",
       "  'profile_path': '/unMMIT60eoBM2sN2nyR7EZ2BvvD.jpg'},\n",
       " {'cast_id': 24,\n",
       "  'character': 'Sergeant (voice)',\n",
       "  'credit_id': '52fe4284c3a36847f8024fb9',\n",
       "  'gender': 2,\n",
       "  'id': 8655,\n",
       "  'name': 'R. Lee Ermey',\n",
       "  'order': 10,\n",
       "  'profile_path': '/r8GBqFBjypLUP9VVqDqfZ7wYbSs.jpg'},\n",
       " {'cast_id': 25,\n",
       "  'character': 'Hannah (voice)',\n",
       "  'credit_id': '52fe4284c3a36847f8024fbd',\n",
       "  'gender': 1,\n",
       "  'id': 12903,\n",
       "  'name': 'Sarah Freeman',\n",
       "  'order': 11,\n",
       "  'profile_path': None},\n",
       " {'cast_id': 27,\n",
       "  'character': 'TV Announcer (voice)',\n",
       "  'credit_id': '52fe4284c3a36847f8024fc5',\n",
       "  'gender': 2,\n",
       "  'id': 37221,\n",
       "  'name': 'Penn Jillette',\n",
       "  'order': 12,\n",
       "  'profile_path': '/zmAaXUdx12NRsssgHbk1T31j2x9.jpg'}]"
      ]
     },
     "execution_count": 21,
     "metadata": {},
     "output_type": "execute_result"
    }
   ],
   "source": [
    "import ast\n",
    "import json\n",
    "\n",
    "\n",
    "dato = df['cast'][0]\n",
    "datos_list = ast.literal_eval(dato)\n",
    "datos_str_list = [json.dumps(d) for d in datos_list]\n",
    "datos_dict_list = [json.loads(d) for d in datos_str_list]\n",
    "datos_dict_list\n",
    "        "
   ]
  },
  {
   "cell_type": "code",
   "execution_count": 22,
   "metadata": {},
   "outputs": [],
   "source": [
    "import ast\n",
    "import json\n",
    "\n",
    "def convertir_a_dict(valor):\n",
    "    datos_list = ast.literal_eval(valor)\n",
    "    datos_str_list = [json.dumps(d) for d in datos_list]\n",
    "    datos_dict_list = [json.loads(d) for d in datos_str_list]\n",
    "    return datos_dict_list\n",
    "\n",
    "# Aplicar la función a toda la columna 'cast'\n",
    "df['cast'] = df['cast'].apply(convertir_a_dict)\n"
   ]
  },
  {
   "cell_type": "code",
   "execution_count": 23,
   "metadata": {},
   "outputs": [],
   "source": [
    "# Aplicar la función pd.json_normalize a cada elemento de la columna 'cast'\n",
    "df_expandido = df['cast'].apply(pd.json_normalize)\n",
    "\n",
    "# Concatenar los DataFrames resultantes\n",
    "df_expandido = pd.concat(df_expandido.to_list(), ignore_index=True)"
   ]
  },
  {
   "cell_type": "code",
   "execution_count": 24,
   "metadata": {},
   "outputs": [],
   "source": [
    "df_expandido.head()\n",
    "df_expandido.rename(columns={'id':'id_name'},inplace=True)"
   ]
  },
  {
   "cell_type": "code",
   "execution_count": 28,
   "metadata": {},
   "outputs": [
    {
     "name": "stdout",
     "output_type": "stream",
     "text": [
      "0              31\n",
      "1           12898\n",
      "2            7167\n",
      "3           12899\n",
      "4           12900\n",
      "           ...   \n",
      "562467      37822\n",
      "562469     544742\n",
      "562470    1090923\n",
      "562471    1136422\n",
      "562473      29199\n",
      "Name: id_name, Length: 428902, dtype: int64\n"
     ]
    }
   ],
   "source": [
    "# Filtrar el DataFrame para mostrar solo los valores duplicados en la columna 'id'\n",
    "valores_duplicados = df_expandido[df_expandido['id_name'].duplicated(keep=False)]\n",
    "\n",
    "# Imprimir los valores duplicados\n",
    "print(valores_duplicados['id_name'])"
   ]
  },
  {
   "cell_type": "code",
   "execution_count": 29,
   "metadata": {},
   "outputs": [],
   "source": [
    "df_c1 = pd.concat([df,df_expandido], axis=1)"
   ]
  },
  {
   "cell_type": "code",
   "execution_count": 33,
   "metadata": {},
   "outputs": [
    {
     "data": {
      "text/plain": [
       "Index(['cast', 'crew', 'id_credits', 'belongs_to_collection', 'budget',\n",
       "       'genres', 'id_movies', 'original_language', 'overview', 'popularity',\n",
       "       'production_companies', 'production_countries', 'release_date',\n",
       "       'revenue', 'runtime', 'spoken_languages', 'status', 'tagline', 'title',\n",
       "       'vote_average', 'vote_count', 'cast_id', 'character', 'credit_id',\n",
       "       'gender', 'id_name', 'name', 'order', 'profile_path'],\n",
       "      dtype='object')"
      ]
     },
     "execution_count": 33,
     "metadata": {},
     "output_type": "execute_result"
    }
   ],
   "source": [
    "df_c1.columns"
   ]
  },
  {
   "cell_type": "code",
   "execution_count": 32,
   "metadata": {},
   "outputs": [
    {
     "data": {
      "text/plain": [
       "(562474, 29)"
      ]
     },
     "execution_count": 32,
     "metadata": {},
     "output_type": "execute_result"
    }
   ],
   "source": [
    "df_c1.shape"
   ]
  },
  {
   "cell_type": "code",
   "execution_count": 34,
   "metadata": {},
   "outputs": [],
   "source": [
    "import ast\n",
    "import json\n",
    "\n",
    "def convertir_a_dict(valor):\n",
    "    datos_list = ast.literal_eval(valor)\n",
    "    datos_str_list = [json.dumps(d) for d in datos_list]\n",
    "    datos_dict_list = [json.loads(d) for d in datos_str_list]\n",
    "    return datos_dict_list\n",
    "\n",
    "# Aplicar la función a toda la columna 'cast'\n",
    "df['crew'] = df['crew'].apply(convertir_a_dict)"
   ]
  },
  {
   "cell_type": "code",
   "execution_count": 35,
   "metadata": {},
   "outputs": [],
   "source": [
    "# Aplicar la función pd.json_normalize a cada elemento de la columna 'cast'\n",
    "df_expandido1 = df['crew'].apply(pd.json_normalize)\n",
    "\n",
    "# Concatenar los DataFrames resultantes\n",
    "df_expandido1 = pd.concat(df_expandido1.to_list(), ignore_index=True)"
   ]
  },
  {
   "cell_type": "code",
   "execution_count": 42,
   "metadata": {},
   "outputs": [
    {
     "data": {
      "text/html": [
       "<div>\n",
       "<style scoped>\n",
       "    .dataframe tbody tr th:only-of-type {\n",
       "        vertical-align: middle;\n",
       "    }\n",
       "\n",
       "    .dataframe tbody tr th {\n",
       "        vertical-align: top;\n",
       "    }\n",
       "\n",
       "    .dataframe thead th {\n",
       "        text-align: right;\n",
       "    }\n",
       "</style>\n",
       "<table border=\"1\" class=\"dataframe\">\n",
       "  <thead>\n",
       "    <tr style=\"text-align: right;\">\n",
       "      <th></th>\n",
       "      <th>credit_id_crew</th>\n",
       "      <th>department</th>\n",
       "      <th>gender</th>\n",
       "      <th>id_name_crew</th>\n",
       "      <th>job</th>\n",
       "      <th>name</th>\n",
       "      <th>profile_path</th>\n",
       "    </tr>\n",
       "  </thead>\n",
       "  <tbody>\n",
       "    <tr>\n",
       "      <th>0</th>\n",
       "      <td>52fe4284c3a36847f8024f49</td>\n",
       "      <td>Directing</td>\n",
       "      <td>2</td>\n",
       "      <td>7879</td>\n",
       "      <td>Director</td>\n",
       "      <td>John Lasseter</td>\n",
       "      <td>/7EdqiNbr4FRjIhKHyPPdFfEEEFG.jpg</td>\n",
       "    </tr>\n",
       "    <tr>\n",
       "      <th>1</th>\n",
       "      <td>52fe4284c3a36847f8024f4f</td>\n",
       "      <td>Writing</td>\n",
       "      <td>2</td>\n",
       "      <td>12891</td>\n",
       "      <td>Screenplay</td>\n",
       "      <td>Joss Whedon</td>\n",
       "      <td>/dTiVsuaTVTeGmvkhcyJvKp2A5kr.jpg</td>\n",
       "    </tr>\n",
       "    <tr>\n",
       "      <th>2</th>\n",
       "      <td>52fe4284c3a36847f8024f55</td>\n",
       "      <td>Writing</td>\n",
       "      <td>2</td>\n",
       "      <td>7</td>\n",
       "      <td>Screenplay</td>\n",
       "      <td>Andrew Stanton</td>\n",
       "      <td>/pvQWsu0qc8JFQhMVJkTHuexUAa1.jpg</td>\n",
       "    </tr>\n",
       "    <tr>\n",
       "      <th>3</th>\n",
       "      <td>52fe4284c3a36847f8024f5b</td>\n",
       "      <td>Writing</td>\n",
       "      <td>2</td>\n",
       "      <td>12892</td>\n",
       "      <td>Screenplay</td>\n",
       "      <td>Joel Cohen</td>\n",
       "      <td>/dAubAiZcvKFbboWlj7oXOkZnTSu.jpg</td>\n",
       "    </tr>\n",
       "    <tr>\n",
       "      <th>4</th>\n",
       "      <td>52fe4284c3a36847f8024f61</td>\n",
       "      <td>Writing</td>\n",
       "      <td>0</td>\n",
       "      <td>12893</td>\n",
       "      <td>Screenplay</td>\n",
       "      <td>Alec Sokolow</td>\n",
       "      <td>/v79vlRYi94BZUQnkkyznbGUZLjT.jpg</td>\n",
       "    </tr>\n",
       "  </tbody>\n",
       "</table>\n",
       "</div>"
      ],
      "text/plain": [
       "             credit_id_crew department  gender  id_name_crew         job  \\\n",
       "0  52fe4284c3a36847f8024f49  Directing       2          7879    Director   \n",
       "1  52fe4284c3a36847f8024f4f    Writing       2         12891  Screenplay   \n",
       "2  52fe4284c3a36847f8024f55    Writing       2             7  Screenplay   \n",
       "3  52fe4284c3a36847f8024f5b    Writing       2         12892  Screenplay   \n",
       "4  52fe4284c3a36847f8024f61    Writing       0         12893  Screenplay   \n",
       "\n",
       "             name                      profile_path  \n",
       "0   John Lasseter  /7EdqiNbr4FRjIhKHyPPdFfEEEFG.jpg  \n",
       "1     Joss Whedon  /dTiVsuaTVTeGmvkhcyJvKp2A5kr.jpg  \n",
       "2  Andrew Stanton  /pvQWsu0qc8JFQhMVJkTHuexUAa1.jpg  \n",
       "3      Joel Cohen  /dAubAiZcvKFbboWlj7oXOkZnTSu.jpg  \n",
       "4    Alec Sokolow  /v79vlRYi94BZUQnkkyznbGUZLjT.jpg  "
      ]
     },
     "execution_count": 42,
     "metadata": {},
     "output_type": "execute_result"
    }
   ],
   "source": [
    "\n",
    "df_expandido1.rename(columns={'id':'id_name_crew'},inplace=True)\n",
    "df_expandido1.rename(columns={'credit_id':'credit_id_crew'},inplace=True)\n",
    "df_expandido1.head()"
   ]
  },
  {
   "cell_type": "code",
   "execution_count": 37,
   "metadata": {},
   "outputs": [],
   "source": [
    "df_c2 = pd.concat([df_c1,df_expandido1], axis=1)"
   ]
  },
  {
   "cell_type": "code",
   "execution_count": 43,
   "metadata": {},
   "outputs": [
    {
     "data": {
      "text/html": [
       "<div>\n",
       "<style scoped>\n",
       "    .dataframe tbody tr th:only-of-type {\n",
       "        vertical-align: middle;\n",
       "    }\n",
       "\n",
       "    .dataframe tbody tr th {\n",
       "        vertical-align: top;\n",
       "    }\n",
       "\n",
       "    .dataframe thead th {\n",
       "        text-align: right;\n",
       "    }\n",
       "</style>\n",
       "<table border=\"1\" class=\"dataframe\">\n",
       "  <thead>\n",
       "    <tr style=\"text-align: right;\">\n",
       "      <th></th>\n",
       "      <th>id_credits</th>\n",
       "      <th>belongs_to_collection</th>\n",
       "      <th>budget</th>\n",
       "      <th>genres</th>\n",
       "      <th>id_movies</th>\n",
       "      <th>original_language</th>\n",
       "      <th>overview</th>\n",
       "      <th>popularity</th>\n",
       "      <th>production_companies</th>\n",
       "      <th>production_countries</th>\n",
       "      <th>...</th>\n",
       "      <th>name</th>\n",
       "      <th>order</th>\n",
       "      <th>profile_path</th>\n",
       "      <th>credit_id_crew</th>\n",
       "      <th>department</th>\n",
       "      <th>gender</th>\n",
       "      <th>id_name_crew</th>\n",
       "      <th>job</th>\n",
       "      <th>name</th>\n",
       "      <th>profile_path</th>\n",
       "    </tr>\n",
       "  </thead>\n",
       "  <tbody>\n",
       "    <tr>\n",
       "      <th>0</th>\n",
       "      <td>862.0</td>\n",
       "      <td>{'id': 10194, 'name': 'Toy Story Collection', ...</td>\n",
       "      <td>30000000</td>\n",
       "      <td>[{'id': 16, 'name': 'Animation'}, {'id': 35, '...</td>\n",
       "      <td>862</td>\n",
       "      <td>en</td>\n",
       "      <td>Led by Woody, Andy's toys live happily in his ...</td>\n",
       "      <td>21.946943</td>\n",
       "      <td>[{'name': 'Pixar Animation Studios', 'id': 3}]</td>\n",
       "      <td>[{'iso_3166_1': 'US', 'name': 'United States o...</td>\n",
       "      <td>...</td>\n",
       "      <td>Tom Hanks</td>\n",
       "      <td>0</td>\n",
       "      <td>/pQFoyx7rp09CJTAb932F2g8Nlho.jpg</td>\n",
       "      <td>52fe4284c3a36847f8024f49</td>\n",
       "      <td>Directing</td>\n",
       "      <td>2.0</td>\n",
       "      <td>7879.0</td>\n",
       "      <td>Director</td>\n",
       "      <td>John Lasseter</td>\n",
       "      <td>/7EdqiNbr4FRjIhKHyPPdFfEEEFG.jpg</td>\n",
       "    </tr>\n",
       "    <tr>\n",
       "      <th>1</th>\n",
       "      <td>8844.0</td>\n",
       "      <td>NaN</td>\n",
       "      <td>65000000</td>\n",
       "      <td>[{'id': 12, 'name': 'Adventure'}, {'id': 14, '...</td>\n",
       "      <td>8844</td>\n",
       "      <td>en</td>\n",
       "      <td>When siblings Judy and Peter discover an encha...</td>\n",
       "      <td>17.015539</td>\n",
       "      <td>[{'name': 'TriStar Pictures', 'id': 559}, {'na...</td>\n",
       "      <td>[{'iso_3166_1': 'US', 'name': 'United States o...</td>\n",
       "      <td>...</td>\n",
       "      <td>Tim Allen</td>\n",
       "      <td>1</td>\n",
       "      <td>/uX2xVf6pMmPepxnvFWyBtjexzgY.jpg</td>\n",
       "      <td>52fe4284c3a36847f8024f4f</td>\n",
       "      <td>Writing</td>\n",
       "      <td>2.0</td>\n",
       "      <td>12891.0</td>\n",
       "      <td>Screenplay</td>\n",
       "      <td>Joss Whedon</td>\n",
       "      <td>/dTiVsuaTVTeGmvkhcyJvKp2A5kr.jpg</td>\n",
       "    </tr>\n",
       "    <tr>\n",
       "      <th>2</th>\n",
       "      <td>15602.0</td>\n",
       "      <td>{'id': 119050, 'name': 'Grumpy Old Men Collect...</td>\n",
       "      <td>0</td>\n",
       "      <td>[{'id': 10749, 'name': 'Romance'}, {'id': 35, ...</td>\n",
       "      <td>15602</td>\n",
       "      <td>en</td>\n",
       "      <td>A family wedding reignites the ancient feud be...</td>\n",
       "      <td>11.7129</td>\n",
       "      <td>[{'name': 'Warner Bros.', 'id': 6194}, {'name'...</td>\n",
       "      <td>[{'iso_3166_1': 'US', 'name': 'United States o...</td>\n",
       "      <td>...</td>\n",
       "      <td>Don Rickles</td>\n",
       "      <td>2</td>\n",
       "      <td>/h5BcaDMPRVLHLDzbQavec4xfSdt.jpg</td>\n",
       "      <td>52fe4284c3a36847f8024f55</td>\n",
       "      <td>Writing</td>\n",
       "      <td>2.0</td>\n",
       "      <td>7.0</td>\n",
       "      <td>Screenplay</td>\n",
       "      <td>Andrew Stanton</td>\n",
       "      <td>/pvQWsu0qc8JFQhMVJkTHuexUAa1.jpg</td>\n",
       "    </tr>\n",
       "    <tr>\n",
       "      <th>3</th>\n",
       "      <td>31357.0</td>\n",
       "      <td>NaN</td>\n",
       "      <td>16000000</td>\n",
       "      <td>[{'id': 35, 'name': 'Comedy'}, {'id': 18, 'nam...</td>\n",
       "      <td>31357</td>\n",
       "      <td>en</td>\n",
       "      <td>Cheated on, mistreated and stepped on, the wom...</td>\n",
       "      <td>3.859495</td>\n",
       "      <td>[{'name': 'Twentieth Century Fox Film Corporat...</td>\n",
       "      <td>[{'iso_3166_1': 'US', 'name': 'United States o...</td>\n",
       "      <td>...</td>\n",
       "      <td>Jim Varney</td>\n",
       "      <td>3</td>\n",
       "      <td>/eIo2jVVXYgjDtaHoF19Ll9vtW7h.jpg</td>\n",
       "      <td>52fe4284c3a36847f8024f5b</td>\n",
       "      <td>Writing</td>\n",
       "      <td>2.0</td>\n",
       "      <td>12892.0</td>\n",
       "      <td>Screenplay</td>\n",
       "      <td>Joel Cohen</td>\n",
       "      <td>/dAubAiZcvKFbboWlj7oXOkZnTSu.jpg</td>\n",
       "    </tr>\n",
       "    <tr>\n",
       "      <th>4</th>\n",
       "      <td>11862.0</td>\n",
       "      <td>{'id': 96871, 'name': 'Father of the Bride Col...</td>\n",
       "      <td>0</td>\n",
       "      <td>[{'id': 35, 'name': 'Comedy'}]</td>\n",
       "      <td>11862</td>\n",
       "      <td>en</td>\n",
       "      <td>Just when George Banks has recovered from his ...</td>\n",
       "      <td>8.387519</td>\n",
       "      <td>[{'name': 'Sandollar Productions', 'id': 5842}...</td>\n",
       "      <td>[{'iso_3166_1': 'US', 'name': 'United States o...</td>\n",
       "      <td>...</td>\n",
       "      <td>Wallace Shawn</td>\n",
       "      <td>4</td>\n",
       "      <td>/oGE6JqPP2xH4tNORKNqxbNPYi7u.jpg</td>\n",
       "      <td>52fe4284c3a36847f8024f61</td>\n",
       "      <td>Writing</td>\n",
       "      <td>0.0</td>\n",
       "      <td>12893.0</td>\n",
       "      <td>Screenplay</td>\n",
       "      <td>Alec Sokolow</td>\n",
       "      <td>/v79vlRYi94BZUQnkkyznbGUZLjT.jpg</td>\n",
       "    </tr>\n",
       "  </tbody>\n",
       "</table>\n",
       "<p>5 rows × 34 columns</p>\n",
       "</div>"
      ],
      "text/plain": [
       "   id_credits                              belongs_to_collection    budget  \\\n",
       "0       862.0  {'id': 10194, 'name': 'Toy Story Collection', ...  30000000   \n",
       "1      8844.0                                                NaN  65000000   \n",
       "2     15602.0  {'id': 119050, 'name': 'Grumpy Old Men Collect...         0   \n",
       "3     31357.0                                                NaN  16000000   \n",
       "4     11862.0  {'id': 96871, 'name': 'Father of the Bride Col...         0   \n",
       "\n",
       "                                              genres id_movies  \\\n",
       "0  [{'id': 16, 'name': 'Animation'}, {'id': 35, '...       862   \n",
       "1  [{'id': 12, 'name': 'Adventure'}, {'id': 14, '...      8844   \n",
       "2  [{'id': 10749, 'name': 'Romance'}, {'id': 35, ...     15602   \n",
       "3  [{'id': 35, 'name': 'Comedy'}, {'id': 18, 'nam...     31357   \n",
       "4                     [{'id': 35, 'name': 'Comedy'}]     11862   \n",
       "\n",
       "  original_language                                           overview  \\\n",
       "0                en  Led by Woody, Andy's toys live happily in his ...   \n",
       "1                en  When siblings Judy and Peter discover an encha...   \n",
       "2                en  A family wedding reignites the ancient feud be...   \n",
       "3                en  Cheated on, mistreated and stepped on, the wom...   \n",
       "4                en  Just when George Banks has recovered from his ...   \n",
       "\n",
       "  popularity                               production_companies  \\\n",
       "0  21.946943     [{'name': 'Pixar Animation Studios', 'id': 3}]   \n",
       "1  17.015539  [{'name': 'TriStar Pictures', 'id': 559}, {'na...   \n",
       "2    11.7129  [{'name': 'Warner Bros.', 'id': 6194}, {'name'...   \n",
       "3   3.859495  [{'name': 'Twentieth Century Fox Film Corporat...   \n",
       "4   8.387519  [{'name': 'Sandollar Productions', 'id': 5842}...   \n",
       "\n",
       "                                production_countries  ...           name  \\\n",
       "0  [{'iso_3166_1': 'US', 'name': 'United States o...  ...      Tom Hanks   \n",
       "1  [{'iso_3166_1': 'US', 'name': 'United States o...  ...      Tim Allen   \n",
       "2  [{'iso_3166_1': 'US', 'name': 'United States o...  ...    Don Rickles   \n",
       "3  [{'iso_3166_1': 'US', 'name': 'United States o...  ...     Jim Varney   \n",
       "4  [{'iso_3166_1': 'US', 'name': 'United States o...  ...  Wallace Shawn   \n",
       "\n",
       "   order                      profile_path            credit_id_crew  \\\n",
       "0      0  /pQFoyx7rp09CJTAb932F2g8Nlho.jpg  52fe4284c3a36847f8024f49   \n",
       "1      1  /uX2xVf6pMmPepxnvFWyBtjexzgY.jpg  52fe4284c3a36847f8024f4f   \n",
       "2      2  /h5BcaDMPRVLHLDzbQavec4xfSdt.jpg  52fe4284c3a36847f8024f55   \n",
       "3      3  /eIo2jVVXYgjDtaHoF19Ll9vtW7h.jpg  52fe4284c3a36847f8024f5b   \n",
       "4      4  /oGE6JqPP2xH4tNORKNqxbNPYi7u.jpg  52fe4284c3a36847f8024f61   \n",
       "\n",
       "  department gender id_name_crew         job            name  \\\n",
       "0  Directing    2.0       7879.0    Director   John Lasseter   \n",
       "1    Writing    2.0      12891.0  Screenplay     Joss Whedon   \n",
       "2    Writing    2.0          7.0  Screenplay  Andrew Stanton   \n",
       "3    Writing    2.0      12892.0  Screenplay      Joel Cohen   \n",
       "4    Writing    0.0      12893.0  Screenplay    Alec Sokolow   \n",
       "\n",
       "                       profile_path  \n",
       "0  /7EdqiNbr4FRjIhKHyPPdFfEEEFG.jpg  \n",
       "1  /dTiVsuaTVTeGmvkhcyJvKp2A5kr.jpg  \n",
       "2  /pvQWsu0qc8JFQhMVJkTHuexUAa1.jpg  \n",
       "3  /dAubAiZcvKFbboWlj7oXOkZnTSu.jpg  \n",
       "4  /v79vlRYi94BZUQnkkyznbGUZLjT.jpg  \n",
       "\n",
       "[5 rows x 34 columns]"
      ]
     },
     "execution_count": 43,
     "metadata": {},
     "output_type": "execute_result"
    }
   ],
   "source": [
    "#df_c2.drop(['cast','crew'], axis=1, inplace=True)\n",
    "df_c2.head()"
   ]
  },
  {
   "cell_type": "code",
   "execution_count": 183,
   "metadata": {},
   "outputs": [
    {
     "name": "stdout",
     "output_type": "stream",
     "text": [
      "[{'id': 16, 'name': 'Animation'}, {'id': 35, 'name': 'Comedy'}, {'id': 10751, 'name': 'Family'}]\n",
      "<class 'str'>\n"
     ]
    }
   ],
   "source": [
    "dato = df_c2['genres'][0]\n",
    "print(dato)\n",
    "print(type(dato))"
   ]
  },
  {
   "cell_type": "code",
   "execution_count": 56,
   "metadata": {},
   "outputs": [
    {
     "name": "stdout",
     "output_type": "stream",
     "text": [
      "(562474,)\n",
      "557986\n",
      "<class 'tuple'>\n",
      "4488\n"
     ]
    }
   ],
   "source": [
    "dato1 = df_c2['belongs_to_collection'].shape\n",
    "dato2 = df_c2['belongs_to_collection'].isna().sum()\n",
    "print(dato1)\n",
    "print(dato2)\n",
    "dato3 = (dato1[0]) - dato2\n",
    "print(type(dato1))\n",
    "print(dato3)"
   ]
  },
  {
   "cell_type": "code",
   "execution_count": 47,
   "metadata": {},
   "outputs": [],
   "source": [
    "import ast\n",
    "import json\n",
    "import math\n",
    "\n",
    "def convertir_a_dict(valor):\n",
    "    if isinstance(valor, float) and math.isnan(valor):\n",
    "        return valor\n",
    "    \n",
    "    datos_list = ast.literal_eval(valor)\n",
    "    datos_str_list = [json.dumps(d) for d in datos_list]\n",
    "    datos_dict_list = [json.loads(d) for d in datos_str_list]\n",
    "    return datos_dict_list\n",
    "\n",
    "# Aplicar la función a toda la columna 'cast'\n",
    "df_c2['belongs_to_collection'] = df['belongs_to_collection'].apply(convertir_a_dict)\n"
   ]
  },
  {
   "cell_type": "code",
   "execution_count": 77,
   "metadata": {},
   "outputs": [
    {
     "data": {
      "text/plain": [
       "['id', 'name', 'poster_path', 'backdrop_path']"
      ]
     },
     "execution_count": 77,
     "metadata": {},
     "output_type": "execute_result"
    }
   ],
   "source": [
    "dato4 = df_c2['belongs_to_collection'][0]\n",
    "dato4\n",
    "\n"
   ]
  },
  {
   "cell_type": "code",
   "execution_count": 57,
   "metadata": {},
   "outputs": [
    {
     "ename": "ValueError",
     "evalue": "The truth value of an array with more than one element is ambiguous. Use a.any() or a.all()",
     "output_type": "error",
     "traceback": [
      "\u001b[1;31m---------------------------------------------------------------------------\u001b[0m",
      "\u001b[1;31mValueError\u001b[0m                                Traceback (most recent call last)",
      "Cell \u001b[1;32mIn[57], line 2\u001b[0m\n\u001b[0;32m      1\u001b[0m \u001b[39m# Aplicar la función pd.json_normalize a cada elemento de la columna 'belongs_to_collection'\u001b[39;00m\n\u001b[1;32m----> 2\u001b[0m df_expandido2 \u001b[39m=\u001b[39m df_c2[\u001b[39m'\u001b[39;49m\u001b[39mbelongs_to_collection\u001b[39;49m\u001b[39m'\u001b[39;49m]\u001b[39m.\u001b[39;49mapply(\u001b[39mlambda\u001b[39;49;00m x: pd\u001b[39m.\u001b[39;49mjson_normalize(x) \u001b[39mif\u001b[39;49;00m pd\u001b[39m.\u001b[39;49mnotnull(x) \u001b[39melse\u001b[39;49;00m x)\n\u001b[0;32m      4\u001b[0m \u001b[39m# Concatenar los DataFrames resultantes\u001b[39;00m\n\u001b[0;32m      5\u001b[0m df_expandido2 \u001b[39m=\u001b[39m pd\u001b[39m.\u001b[39mconcat(df_expandido2\u001b[39m.\u001b[39mto_list(), ignore_index\u001b[39m=\u001b[39m\u001b[39mTrue\u001b[39;00m)\n",
      "File \u001b[1;32m~\\AppData\\Local\\Packages\\PythonSoftwareFoundation.Python.3.10_qbz5n2kfra8p0\\LocalCache\\local-packages\\Python310\\site-packages\\pandas\\core\\series.py:4771\u001b[0m, in \u001b[0;36mSeries.apply\u001b[1;34m(self, func, convert_dtype, args, **kwargs)\u001b[0m\n\u001b[0;32m   4661\u001b[0m \u001b[39mdef\u001b[39;00m \u001b[39mapply\u001b[39m(\n\u001b[0;32m   4662\u001b[0m     \u001b[39mself\u001b[39m,\n\u001b[0;32m   4663\u001b[0m     func: AggFuncType,\n\u001b[1;32m   (...)\u001b[0m\n\u001b[0;32m   4666\u001b[0m     \u001b[39m*\u001b[39m\u001b[39m*\u001b[39mkwargs,\n\u001b[0;32m   4667\u001b[0m ) \u001b[39m-\u001b[39m\u001b[39m>\u001b[39m DataFrame \u001b[39m|\u001b[39m Series:\n\u001b[0;32m   4668\u001b[0m \u001b[39m    \u001b[39m\u001b[39m\"\"\"\u001b[39;00m\n\u001b[0;32m   4669\u001b[0m \u001b[39m    Invoke function on values of Series.\u001b[39;00m\n\u001b[0;32m   4670\u001b[0m \n\u001b[1;32m   (...)\u001b[0m\n\u001b[0;32m   4769\u001b[0m \u001b[39m    dtype: float64\u001b[39;00m\n\u001b[0;32m   4770\u001b[0m \u001b[39m    \"\"\"\u001b[39;00m\n\u001b[1;32m-> 4771\u001b[0m     \u001b[39mreturn\u001b[39;00m SeriesApply(\u001b[39mself\u001b[39;49m, func, convert_dtype, args, kwargs)\u001b[39m.\u001b[39;49mapply()\n",
      "File \u001b[1;32m~\\AppData\\Local\\Packages\\PythonSoftwareFoundation.Python.3.10_qbz5n2kfra8p0\\LocalCache\\local-packages\\Python310\\site-packages\\pandas\\core\\apply.py:1123\u001b[0m, in \u001b[0;36mSeriesApply.apply\u001b[1;34m(self)\u001b[0m\n\u001b[0;32m   1120\u001b[0m     \u001b[39mreturn\u001b[39;00m \u001b[39mself\u001b[39m\u001b[39m.\u001b[39mapply_str()\n\u001b[0;32m   1122\u001b[0m \u001b[39m# self.f is Callable\u001b[39;00m\n\u001b[1;32m-> 1123\u001b[0m \u001b[39mreturn\u001b[39;00m \u001b[39mself\u001b[39;49m\u001b[39m.\u001b[39;49mapply_standard()\n",
      "File \u001b[1;32m~\\AppData\\Local\\Packages\\PythonSoftwareFoundation.Python.3.10_qbz5n2kfra8p0\\LocalCache\\local-packages\\Python310\\site-packages\\pandas\\core\\apply.py:1174\u001b[0m, in \u001b[0;36mSeriesApply.apply_standard\u001b[1;34m(self)\u001b[0m\n\u001b[0;32m   1172\u001b[0m     \u001b[39melse\u001b[39;00m:\n\u001b[0;32m   1173\u001b[0m         values \u001b[39m=\u001b[39m obj\u001b[39m.\u001b[39mastype(\u001b[39mobject\u001b[39m)\u001b[39m.\u001b[39m_values\n\u001b[1;32m-> 1174\u001b[0m         mapped \u001b[39m=\u001b[39m lib\u001b[39m.\u001b[39;49mmap_infer(\n\u001b[0;32m   1175\u001b[0m             values,\n\u001b[0;32m   1176\u001b[0m             f,\n\u001b[0;32m   1177\u001b[0m             convert\u001b[39m=\u001b[39;49m\u001b[39mself\u001b[39;49m\u001b[39m.\u001b[39;49mconvert_dtype,\n\u001b[0;32m   1178\u001b[0m         )\n\u001b[0;32m   1180\u001b[0m \u001b[39mif\u001b[39;00m \u001b[39mlen\u001b[39m(mapped) \u001b[39mand\u001b[39;00m \u001b[39misinstance\u001b[39m(mapped[\u001b[39m0\u001b[39m], ABCSeries):\n\u001b[0;32m   1181\u001b[0m     \u001b[39m# GH#43986 Need to do list(mapped) in order to get treated as nested\u001b[39;00m\n\u001b[0;32m   1182\u001b[0m     \u001b[39m#  See also GH#25959 regarding EA support\u001b[39;00m\n\u001b[0;32m   1183\u001b[0m     \u001b[39mreturn\u001b[39;00m obj\u001b[39m.\u001b[39m_constructor_expanddim(\u001b[39mlist\u001b[39m(mapped), index\u001b[39m=\u001b[39mobj\u001b[39m.\u001b[39mindex)\n",
      "File \u001b[1;32m~\\AppData\\Local\\Packages\\PythonSoftwareFoundation.Python.3.10_qbz5n2kfra8p0\\LocalCache\\local-packages\\Python310\\site-packages\\pandas\\_libs\\lib.pyx:2924\u001b[0m, in \u001b[0;36mpandas._libs.lib.map_infer\u001b[1;34m()\u001b[0m\n",
      "Cell \u001b[1;32mIn[57], line 2\u001b[0m, in \u001b[0;36m<lambda>\u001b[1;34m(x)\u001b[0m\n\u001b[0;32m      1\u001b[0m \u001b[39m# Aplicar la función pd.json_normalize a cada elemento de la columna 'belongs_to_collection'\u001b[39;00m\n\u001b[1;32m----> 2\u001b[0m df_expandido2 \u001b[39m=\u001b[39m df_c2[\u001b[39m'\u001b[39m\u001b[39mbelongs_to_collection\u001b[39m\u001b[39m'\u001b[39m]\u001b[39m.\u001b[39mapply(\u001b[39mlambda\u001b[39;00m x: pd\u001b[39m.\u001b[39mjson_normalize(x) \u001b[39mif\u001b[39;00m pd\u001b[39m.\u001b[39mnotnull(x) \u001b[39melse\u001b[39;00m x)\n\u001b[0;32m      4\u001b[0m \u001b[39m# Concatenar los DataFrames resultantes\u001b[39;00m\n\u001b[0;32m      5\u001b[0m df_expandido2 \u001b[39m=\u001b[39m pd\u001b[39m.\u001b[39mconcat(df_expandido2\u001b[39m.\u001b[39mto_list(), ignore_index\u001b[39m=\u001b[39m\u001b[39mTrue\u001b[39;00m)\n",
      "\u001b[1;31mValueError\u001b[0m: The truth value of an array with more than one element is ambiguous. Use a.any() or a.all()"
     ]
    }
   ],
   "source": [
    "# Aplicar la función pd.json_normalize a cada elemento de la columna 'belongs_to_collection'\n",
    "df_expandido2 = df_c2['belongs_to_collection'].apply(lambda x: pd.json_normalize(x) if pd.notnull(x) else x)\n",
    "\n",
    "# Concatenar los DataFrames resultantes\n",
    "df_expandido2 = pd.concat(df_expandido2.to_list(), ignore_index=True)"
   ]
  },
  {
   "cell_type": "code",
   "execution_count": null,
   "metadata": {},
   "outputs": [],
   "source": [
    "df_expandido1.rename(columns={'id':'id_name_crew'},inplace=True)\n",
    "df_expandido1.rename(columns={'credit_id':'credit_id_crew'},inplace=True)\n",
    "df_expandido1.head()"
   ]
  },
  {
   "cell_type": "code",
   "execution_count": null,
   "metadata": {},
   "outputs": [],
   "source": []
  },
  {
   "cell_type": "code",
   "execution_count": null,
   "metadata": {},
   "outputs": [],
   "source": []
  },
  {
   "cell_type": "code",
   "execution_count": null,
   "metadata": {},
   "outputs": [],
   "source": []
  },
  {
   "cell_type": "code",
   "execution_count": 88,
   "metadata": {},
   "outputs": [
    {
     "name": "stdout",
     "output_type": "stream",
     "text": [
      "104\n",
      "{\"cast_id\": 15\n",
      "\"character\": \"Woody (voice)\"\n",
      "\"credit_id\": \"52fe4284c3a36847f8024f95\"\n",
      "\"gender\": 2\n"
     ]
    }
   ],
   "source": [
    "dato = df['cast'][0]\n",
    "\n",
    "e_cast_id = dato.split(\",\")[0].strip().replace(\"'\",\"\\\"\").replace(\"None\", \"null\").replace(\"[\", \"\")\n",
    "e_character = dato.split(\",\")[1].strip().replace(\"'\",\"\\\"\").replace(\"None\", \"null\")\n",
    "e_credit_id = dato.split(\",\")[2].strip().replace(\"'\",\"\\\"\").replace(\"None\", \"null\")\n",
    "e_gender = dato.split(\",\")[3].strip().replace(\"'\",\"\\\"\").replace(\"None\", \"null\")\n",
    "e_id = dato.split(\",\")[4].strip().replace(\"'\",\"\\\"\").replace(\"None\", \"null\")\n",
    "e_name = dato.split(\",\")[5].strip().replace(\"'\",\"\\\"\").replace(\"None\", \"null\")\n",
    "e_order = dato.split(\",\")[6].strip().replace(\"'\",\"\\\"\").replace(\"None\", \"null\")\n",
    "e_profile_path =dato.split(\",\")[7].strip().replace(\"'\",\"\\\"\").replace(\"None\", \"null\")\n",
    "\n",
    "print(len(dato.split(\",\")))\n",
    "print(e_cast_id)\n",
    "print(e_character)\n",
    "print(e_credit_id)\n",
    "print(e_gender)"
   ]
  },
  {
   "cell_type": "code",
   "execution_count": 181,
   "metadata": {},
   "outputs": [
    {
     "data": {
      "text/plain": [
       "\"{'id': 10194, 'name': 'Toy Story Collection', 'poster_path': '/7G9915LfUQ2lVfwMEEhDsn3kT4B.jpg', 'backdrop_path': '/9FBwqcd9IRruEDUrTdcaafOMKUq.jpg'}\""
      ]
     },
     "execution_count": 181,
     "metadata": {},
     "output_type": "execute_result"
    }
   ],
   "source": [
    "dato = df2['belongs_to_collection'][0]\n",
    "dato"
   ]
  },
  {
   "cell_type": "code",
   "execution_count": 191,
   "metadata": {},
   "outputs": [
    {
     "name": "stdout",
     "output_type": "stream",
     "text": [
      "{\"id\": 8819\n",
      "\"name\": \"Casper Collection\"\n",
      "\"poster_path\": \"/nWKbJAOFwJlJm24dTovfQuUJOc2.jpg\"\n",
      "\"backdrop_path\": null}\n"
     ]
    },
    {
     "data": {
      "text/plain": [
       "'{\"id\": 8819, \"name\": \"Casper Collection\", \"poster_path\": \"/nWKbJAOFwJlJm24dTovfQuUJOc2.jpg\", \"backdrop_path\": null}'"
      ]
     },
     "execution_count": 191,
     "metadata": {},
     "output_type": "execute_result"
    }
   ],
   "source": [
    "dato = df2['belongs_to_collection'][155]\n",
    "dato\n",
    "extrae_id = dato.split(\",\")[0].strip().replace(\"'\",\"\\\"\").replace(\"None\", \"null\")\n",
    "extrae_name = dato.split(\",\")[1].strip().replace(\"'\",\"\\\"\").replace(\"None\", \"null\")\n",
    "extrae_poster = dato.split(\",\")[2].strip().replace(\"'\",\"\\\"\").replace(\"None\", \"null\")\n",
    "back_path = dato.split(\",\")[3].strip().replace(\"'\",\"\\\"\").replace(\"None\", \"null\")\n",
    "\n",
    "print(extrae_id)\n",
    "print(extrae_name)\n",
    "print(extrae_poster)\n",
    "print(back_path)\n",
    "resultado = extrae_id + \", \" + extrae_name + \", \" + extrae_poster + \", \" + back_path\n",
    "resultado"
   ]
  },
  {
   "cell_type": "code",
   "execution_count": 195,
   "metadata": {},
   "outputs": [
    {
     "name": "stdout",
     "output_type": "stream",
     "text": [
      "{'id': 8819, 'name': 'Casper Collection', 'poster_path': '/nWKbJAOFwJlJm24dTovfQuUJOc2.jpg', 'backdrop_path': None}\n"
     ]
    },
    {
     "data": {
      "text/plain": [
       "dict"
      ]
     },
     "execution_count": 195,
     "metadata": {},
     "output_type": "execute_result"
    }
   ],
   "source": [
    "import json \n",
    "json_data = json.loads(resultado)\n",
    "diccionario = dict(json_data)\n",
    "print(diccionario)\n",
    "type(diccionario)"
   ]
  }
 ],
 "metadata": {
  "kernelspec": {
   "display_name": "Python 3",
   "language": "python",
   "name": "python3"
  },
  "language_info": {
   "codemirror_mode": {
    "name": "ipython",
    "version": 3
   },
   "file_extension": ".py",
   "mimetype": "text/x-python",
   "name": "python",
   "nbconvert_exporter": "python",
   "pygments_lexer": "ipython3",
   "version": "3.10.11"
  },
  "orig_nbformat": 4
 },
 "nbformat": 4,
 "nbformat_minor": 2
}
