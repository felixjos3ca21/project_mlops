{
 "cells": [
  {
   "cell_type": "code",
   "execution_count": 2,
   "metadata": {},
   "outputs": [],
   "source": [
    "import pandas as pd"
   ]
  },
  {
   "cell_type": "code",
   "execution_count": 4,
   "metadata": {},
   "outputs": [],
   "source": [
    "data = pd.read_csv('C:\\project_mlops\\datasets\\data_endpoints.csv')"
   ]
  },
  {
   "cell_type": "code",
   "execution_count": 5,
   "metadata": {},
   "outputs": [
    {
     "data": {
      "text/plain": [
       "'Minions'"
      ]
     },
     "execution_count": 5,
     "metadata": {},
     "output_type": "execute_result"
    }
   ],
   "source": [
    "data['title'][0]"
   ]
  },
  {
   "cell_type": "code",
   "execution_count": 6,
   "metadata": {},
   "outputs": [
    {
     "data": {
      "text/html": [
       "<div>\n",
       "<style scoped>\n",
       "    .dataframe tbody tr th:only-of-type {\n",
       "        vertical-align: middle;\n",
       "    }\n",
       "\n",
       "    .dataframe tbody tr th {\n",
       "        vertical-align: top;\n",
       "    }\n",
       "\n",
       "    .dataframe thead th {\n",
       "        text-align: right;\n",
       "    }\n",
       "</style>\n",
       "<table border=\"1\" class=\"dataframe\">\n",
       "  <thead>\n",
       "    <tr style=\"text-align: right;\">\n",
       "      <th></th>\n",
       "      <th>budget</th>\n",
       "      <th>id_movie</th>\n",
       "      <th>popularity</th>\n",
       "      <th>release_date</th>\n",
       "      <th>revenue</th>\n",
       "      <th>title</th>\n",
       "      <th>vote_average</th>\n",
       "      <th>vote_count</th>\n",
       "      <th>release_year</th>\n",
       "      <th>return</th>\n",
       "      <th>cast</th>\n",
       "      <th>crew</th>\n",
       "    </tr>\n",
       "  </thead>\n",
       "  <tbody>\n",
       "    <tr>\n",
       "      <th>37567</th>\n",
       "      <td>0.0</td>\n",
       "      <td>401840</td>\n",
       "      <td>0.207775</td>\n",
       "      <td>2017-05-30</td>\n",
       "      <td>0.0</td>\n",
       "      <td>School's out</td>\n",
       "      <td>0.0</td>\n",
       "      <td>0.0</td>\n",
       "      <td>2017-05-30</td>\n",
       "      <td>0.0</td>\n",
       "      <td>NaN</td>\n",
       "      <td>NaN</td>\n",
       "    </tr>\n",
       "  </tbody>\n",
       "</table>\n",
       "</div>"
      ],
      "text/plain": [
       "       budget  id_movie  popularity release_date  revenue         title  \\\n",
       "37567     0.0    401840    0.207775   2017-05-30      0.0  School's out   \n",
       "\n",
       "       vote_average  vote_count release_year  return cast crew  \n",
       "37567           0.0         0.0   2017-05-30     0.0  NaN  NaN  "
      ]
     },
     "execution_count": 6,
     "metadata": {},
     "output_type": "execute_result"
    }
   ],
   "source": [
    "data[data['crew'].isna()]"
   ]
  },
  {
   "cell_type": "code",
   "execution_count": 7,
   "metadata": {},
   "outputs": [],
   "source": [
    "data = data.dropna(subset=['cast']).reset_index(drop=True)"
   ]
  },
  {
   "cell_type": "code",
   "execution_count": 8,
   "metadata": {},
   "outputs": [
    {
     "name": "stdout",
     "output_type": "stream",
     "text": [
      "<class 'pandas.core.frame.DataFrame'>\n",
      "RangeIndex: 45345 entries, 0 to 45344\n",
      "Data columns (total 12 columns):\n",
      " #   Column        Non-Null Count  Dtype  \n",
      "---  ------        --------------  -----  \n",
      " 0   budget        45345 non-null  float64\n",
      " 1   id_movie      45345 non-null  int64  \n",
      " 2   popularity    45345 non-null  float64\n",
      " 3   release_date  45345 non-null  object \n",
      " 4   revenue       45345 non-null  float64\n",
      " 5   title         45345 non-null  object \n",
      " 6   vote_average  45345 non-null  float64\n",
      " 7   vote_count    45345 non-null  float64\n",
      " 8   release_year  45345 non-null  object \n",
      " 9   return        45345 non-null  float64\n",
      " 10  cast          45345 non-null  object \n",
      " 11  crew          45345 non-null  object \n",
      "dtypes: float64(6), int64(1), object(5)\n",
      "memory usage: 4.2+ MB\n"
     ]
    }
   ],
   "source": [
    "data.info()"
   ]
  },
  {
   "attachments": {},
   "cell_type": "markdown",
   "metadata": {},
   "source": [
    "# Get_Actor"
   ]
  },
  {
   "cell_type": "code",
   "execution_count": 9,
   "metadata": {},
   "outputs": [],
   "source": [
    "# listas de lo que parecen ser diccionarios, y listas vacías.\n",
    "# procedemos a la transformación de texto a diccionario\n",
    "import ast\n",
    "import json\n",
    "\n",
    "def convertir_a_dict(valor):\n",
    "    datos_list = ast.literal_eval(valor)\n",
    "    datos_str_list = [json.dumps(d) for d in datos_list]\n",
    "    datos_dict_list = [json.loads(d) for d in datos_str_list]\n",
    "    return datos_dict_list\n",
    "\n",
    "# Aplicar la función a toda la columna 'cast' agregando una nueva columna al DF llamada 'cast_dict'\n",
    "data['cast_conv_dict'] = data['cast'].apply(convertir_a_dict)"
   ]
  },
  {
   "cell_type": "code",
   "execution_count": 10,
   "metadata": {},
   "outputs": [
    {
     "name": "stdout",
     "output_type": "stream",
     "text": [
      "<class 'pandas.core.frame.DataFrame'>\n",
      "RangeIndex: 45345 entries, 0 to 45344\n",
      "Data columns (total 13 columns):\n",
      " #   Column          Non-Null Count  Dtype  \n",
      "---  ------          --------------  -----  \n",
      " 0   budget          45345 non-null  float64\n",
      " 1   id_movie        45345 non-null  int64  \n",
      " 2   popularity      45345 non-null  float64\n",
      " 3   release_date    45345 non-null  object \n",
      " 4   revenue         45345 non-null  float64\n",
      " 5   title           45345 non-null  object \n",
      " 6   vote_average    45345 non-null  float64\n",
      " 7   vote_count      45345 non-null  float64\n",
      " 8   release_year    45345 non-null  object \n",
      " 9   return          45345 non-null  float64\n",
      " 10  cast            45345 non-null  object \n",
      " 11  crew            45345 non-null  object \n",
      " 12  cast_conv_dict  45345 non-null  object \n",
      "dtypes: float64(6), int64(1), object(6)\n",
      "memory usage: 4.5+ MB\n"
     ]
    }
   ],
   "source": [
    "data.info()"
   ]
  },
  {
   "cell_type": "code",
   "execution_count": 14,
   "metadata": {},
   "outputs": [],
   "source": [
    "data_actor = data[['id_movie','return','title','name_actor']]"
   ]
  },
  {
   "cell_type": "code",
   "execution_count": 12,
   "metadata": {},
   "outputs": [
    {
     "data": {
      "text/plain": [
       "[{'cast_id': 22,\n",
       "  'character': 'Scarlet Overkill (voice)',\n",
       "  'credit_id': '54cd4a5d9251414755001dae',\n",
       "  'gender': 1,\n",
       "  'id': 18277,\n",
       "  'name': 'Sandra Bullock',\n",
       "  'order': 0,\n",
       "  'profile_path': '/bsAy8f8UZKairXQzRukU5FP4XAQ.jpg'},\n",
       " {'cast_id': 24,\n",
       "  'character': 'Herb Overkill (voice)',\n",
       "  'credit_id': '54cd4aa9c3a3687f84001f92',\n",
       "  'gender': 2,\n",
       "  'id': 65717,\n",
       "  'name': 'Jon Hamm',\n",
       "  'order': 1,\n",
       "  'profile_path': '/wb14AA6u8dqA0XNweRIeKXatzzc.jpg'},\n",
       " {'cast_id': 28,\n",
       "  'character': 'Walter Nelson (voice)',\n",
       "  'credit_id': '55440dda92514119e00000d1',\n",
       "  'gender': 2,\n",
       "  'id': 2232,\n",
       "  'name': 'Michael Keaton',\n",
       "  'order': 2,\n",
       "  'profile_path': '/myVdrYNGTgqunLfUSaM8DuVD7DL.jpg'},\n",
       " {'cast_id': 29,\n",
       "  'character': 'Madge Nelson (voice)',\n",
       "  'credit_id': '55440de3c3a3680cdf002c7f',\n",
       "  'gender': 1,\n",
       "  'id': 19,\n",
       "  'name': 'Allison Janney',\n",
       "  'order': 3,\n",
       "  'profile_path': '/fido6hwI8tFSZNt6HtP2DZH2eu6.jpg'},\n",
       " {'cast_id': 31,\n",
       "  'character': 'Professor Flux / Tower Guard (voice)',\n",
       "  'credit_id': '55440dfcc3a3680cd5002c8a',\n",
       "  'gender': 2,\n",
       "  'id': 4581,\n",
       "  'name': 'Steve Coogan',\n",
       "  'order': 4,\n",
       "  'profile_path': '/1xeEsE6pq6GTkueRfjzQiTqvyYA.jpg'},\n",
       " {'cast_id': 33,\n",
       "  'character': 'Reine Elizabeth II (voice)',\n",
       "  'credit_id': '55440e27925141586d002aac',\n",
       "  'gender': 1,\n",
       "  'id': 12094,\n",
       "  'name': 'Jennifer Saunders',\n",
       "  'order': 5,\n",
       "  'profile_path': '/c1qRVTYqUhWd7y2ws426zdyqhln.jpg'},\n",
       " {'cast_id': 34,\n",
       "  'character': 'Narrator (voice)',\n",
       "  'credit_id': '559ab87bc3a3685f80004100',\n",
       "  'gender': 2,\n",
       "  'id': 118,\n",
       "  'name': 'Geoffrey Rush',\n",
       "  'order': 6,\n",
       "  'profile_path': '/5h91WHSK80YtqTk1bMiar2IZzO2.jpg'},\n",
       " {'cast_id': 35,\n",
       "  'character': 'Gru (voice)',\n",
       "  'credit_id': '559ab891c3a36855db0052fe',\n",
       "  'gender': 2,\n",
       "  'id': 4495,\n",
       "  'name': 'Steve Carell',\n",
       "  'order': 7,\n",
       "  'profile_path': '/dIbDse0ULWgA5QVoQDSFogczuc.jpg'},\n",
       " {'cast_id': 12,\n",
       "  'character': 'Stuart, Kevin and Bob (voices)',\n",
       "  'credit_id': '5431b260c3a36831a6003d9b',\n",
       "  'gender': 2,\n",
       "  'id': 124747,\n",
       "  'name': 'Pierre Coffin',\n",
       "  'order': 8,\n",
       "  'profile_path': '/enSQNAwRSDPq9M9VZ1yjDwKWbev.jpg'},\n",
       " {'cast_id': 30,\n",
       "  'character': 'Tina (voice)',\n",
       "  'credit_id': '55440df09251414c920003be',\n",
       "  'gender': 1,\n",
       "  'id': 59450,\n",
       "  'name': 'Katy Mixon',\n",
       "  'order': 9,\n",
       "  'profile_path': '/o6yDzpvqsq0bObKDGPQdoszRKyW.jpg'},\n",
       " {'cast_id': 36,\n",
       "  'character': 'VNC Announcer / Walter Jr. (voice)',\n",
       "  'credit_id': '559ab8b69251413d96005590',\n",
       "  'gender': 2,\n",
       "  'id': 73476,\n",
       "  'name': 'Michael Beattie',\n",
       "  'order': 10,\n",
       "  'profile_path': '/cdW4ZWXmAaykyv6NF1sg7eHXrJe.jpg'},\n",
       " {'cast_id': 32,\n",
       "  'character': 'Sumo (voice)',\n",
       "  'credit_id': '55440e149251415865002c8e',\n",
       "  'gender': 0,\n",
       "  'id': 9195,\n",
       "  'name': 'Hiroyuki Sanada',\n",
       "  'order': 11,\n",
       "  'profile_path': '/bQPcqqXDH6DF7WusAjeBeAktJU9.jpg'},\n",
       " {'cast_id': 37,\n",
       "  'character': 'Fabrice (voice)',\n",
       "  'credit_id': '559ab8c7c3a3685f8000410a',\n",
       "  'gender': 0,\n",
       "  'id': 1265060,\n",
       "  'name': 'Dave Rosenbaum',\n",
       "  'order': 12,\n",
       "  'profile_path': '/ajYL0iMlODjVhqukwIM9UuDzCyv.jpg'},\n",
       " {'cast_id': 38,\n",
       "  'character': 'Royal Advisor (voice)',\n",
       "  'credit_id': '562cbfad92514128570073d8',\n",
       "  'gender': 0,\n",
       "  'id': 1526863,\n",
       "  'name': 'Alex Dowding',\n",
       "  'order': 13,\n",
       "  'profile_path': None},\n",
       " {'cast_id': 39,\n",
       "  'character': 'News Reporter (voice)',\n",
       "  'credit_id': '562cbfbb9251410a2200334c',\n",
       "  'gender': 0,\n",
       "  'id': 192922,\n",
       "  'name': 'Paul Thornley',\n",
       "  'order': 14,\n",
       "  'profile_path': '/4leB3psu55AaGGWxoPEf63wzUnX.jpg'},\n",
       " {'cast_id': 42,\n",
       "  'character': 'Additional Voices (voice)',\n",
       "  'credit_id': '5722a97a9251413eaf000b9f',\n",
       "  'gender': 0,\n",
       "  'id': 8023,\n",
       "  'name': 'Kyle Balda',\n",
       "  'order': 15,\n",
       "  'profile_path': '/jR8iAP6uC0V42KbUG87qBIUO3Hj.jpg'},\n",
       " {'cast_id': 43,\n",
       "  'character': 'Additional Voices (voice)',\n",
       "  'credit_id': '5916d39f925141061e02700a',\n",
       "  'gender': 1,\n",
       "  'id': 1340664,\n",
       "  'name': 'Ava Acres',\n",
       "  'order': 16,\n",
       "  'profile_path': '/kIK6BDTgMmNSAncCgZ7XQhFo5oZ.jpg'}]"
      ]
     },
     "execution_count": 12,
     "metadata": {},
     "output_type": "execute_result"
    }
   ],
   "source": [
    "data['cast_conv_dict'][0]"
   ]
  },
  {
   "cell_type": "code",
   "execution_count": 13,
   "metadata": {},
   "outputs": [],
   "source": [
    "data['name_actor'] = data['cast_conv_dict'].apply(lambda x: [{'name': d['name']} for d in x] if isinstance(x, list) else None)"
   ]
  },
  {
   "cell_type": "code",
   "execution_count": 15,
   "metadata": {},
   "outputs": [
    {
     "data": {
      "text/html": [
       "<div>\n",
       "<style scoped>\n",
       "    .dataframe tbody tr th:only-of-type {\n",
       "        vertical-align: middle;\n",
       "    }\n",
       "\n",
       "    .dataframe tbody tr th {\n",
       "        vertical-align: top;\n",
       "    }\n",
       "\n",
       "    .dataframe thead th {\n",
       "        text-align: right;\n",
       "    }\n",
       "</style>\n",
       "<table border=\"1\" class=\"dataframe\">\n",
       "  <thead>\n",
       "    <tr style=\"text-align: right;\">\n",
       "      <th></th>\n",
       "      <th>id_movie</th>\n",
       "      <th>return</th>\n",
       "      <th>title</th>\n",
       "      <th>name_actor</th>\n",
       "    </tr>\n",
       "  </thead>\n",
       "  <tbody>\n",
       "    <tr>\n",
       "      <th>0</th>\n",
       "      <td>211672</td>\n",
       "      <td>15.631499</td>\n",
       "      <td>Minions</td>\n",
       "      <td>[{'name': 'Sandra Bullock'}, {'name': 'Jon Ham...</td>\n",
       "    </tr>\n",
       "    <tr>\n",
       "      <th>1</th>\n",
       "      <td>297762</td>\n",
       "      <td>5.507251</td>\n",
       "      <td>Wonder Woman</td>\n",
       "      <td>[{'name': 'Gal Gadot'}, {'name': 'Chris Pine'}...</td>\n",
       "    </tr>\n",
       "    <tr>\n",
       "      <th>2</th>\n",
       "      <td>321612</td>\n",
       "      <td>7.893040</td>\n",
       "      <td>Beauty and the Beast</td>\n",
       "      <td>[{'name': 'Emma Watson'}, {'name': 'Dan Steven...</td>\n",
       "    </tr>\n",
       "    <tr>\n",
       "      <th>3</th>\n",
       "      <td>339403</td>\n",
       "      <td>6.603274</td>\n",
       "      <td>Baby Driver</td>\n",
       "      <td>[{'name': 'Ansel Elgort'}, {'name': 'Lily Jame...</td>\n",
       "    </tr>\n",
       "    <tr>\n",
       "      <th>4</th>\n",
       "      <td>177572</td>\n",
       "      <td>3.952154</td>\n",
       "      <td>Big Hero 6</td>\n",
       "      <td>[{'name': 'Scott Adsit'}, {'name': 'Ryan Potte...</td>\n",
       "    </tr>\n",
       "    <tr>\n",
       "      <th>...</th>\n",
       "      <td>...</td>\n",
       "      <td>...</td>\n",
       "      <td>...</td>\n",
       "      <td>...</td>\n",
       "    </tr>\n",
       "    <tr>\n",
       "      <th>45340</th>\n",
       "      <td>293552</td>\n",
       "      <td>0.000000</td>\n",
       "      <td>At the River I Stand</td>\n",
       "      <td>[]</td>\n",
       "    </tr>\n",
       "    <tr>\n",
       "      <th>45341</th>\n",
       "      <td>423078</td>\n",
       "      <td>0.000000</td>\n",
       "      <td>Narrien Illat</td>\n",
       "      <td>[{'name': 'Markku Suominen'}, {'name': 'Kari K...</td>\n",
       "    </tr>\n",
       "    <tr>\n",
       "      <th>45342</th>\n",
       "      <td>47116</td>\n",
       "      <td>0.000000</td>\n",
       "      <td>The Winner</td>\n",
       "      <td>[{'name': 'Jaroslav Tomsa'}, {'name': 'jarosla...</td>\n",
       "    </tr>\n",
       "    <tr>\n",
       "      <th>45343</th>\n",
       "      <td>159636</td>\n",
       "      <td>0.000000</td>\n",
       "      <td>Raakh</td>\n",
       "      <td>[{'name': 'Aamir Khan'}, {'name': 'Supriya Pat...</td>\n",
       "    </tr>\n",
       "    <tr>\n",
       "      <th>45344</th>\n",
       "      <td>92292</td>\n",
       "      <td>0.000000</td>\n",
       "      <td>Star Spangled Girl</td>\n",
       "      <td>[{'name': 'Sandy Duncan'}, {'name': 'Tony Robe...</td>\n",
       "    </tr>\n",
       "  </tbody>\n",
       "</table>\n",
       "<p>45345 rows × 4 columns</p>\n",
       "</div>"
      ],
      "text/plain": [
       "       id_movie     return                 title  \\\n",
       "0        211672  15.631499               Minions   \n",
       "1        297762   5.507251          Wonder Woman   \n",
       "2        321612   7.893040  Beauty and the Beast   \n",
       "3        339403   6.603274           Baby Driver   \n",
       "4        177572   3.952154            Big Hero 6   \n",
       "...         ...        ...                   ...   \n",
       "45340    293552   0.000000  At the River I Stand   \n",
       "45341    423078   0.000000         Narrien Illat   \n",
       "45342     47116   0.000000            The Winner   \n",
       "45343    159636   0.000000                 Raakh   \n",
       "45344     92292   0.000000    Star Spangled Girl   \n",
       "\n",
       "                                              name_actor  \n",
       "0      [{'name': 'Sandra Bullock'}, {'name': 'Jon Ham...  \n",
       "1      [{'name': 'Gal Gadot'}, {'name': 'Chris Pine'}...  \n",
       "2      [{'name': 'Emma Watson'}, {'name': 'Dan Steven...  \n",
       "3      [{'name': 'Ansel Elgort'}, {'name': 'Lily Jame...  \n",
       "4      [{'name': 'Scott Adsit'}, {'name': 'Ryan Potte...  \n",
       "...                                                  ...  \n",
       "45340                                                 []  \n",
       "45341  [{'name': 'Markku Suominen'}, {'name': 'Kari K...  \n",
       "45342  [{'name': 'Jaroslav Tomsa'}, {'name': 'jarosla...  \n",
       "45343  [{'name': 'Aamir Khan'}, {'name': 'Supriya Pat...  \n",
       "45344  [{'name': 'Sandy Duncan'}, {'name': 'Tony Robe...  \n",
       "\n",
       "[45345 rows x 4 columns]"
      ]
     },
     "execution_count": 15,
     "metadata": {},
     "output_type": "execute_result"
    }
   ],
   "source": [
    "data_actor"
   ]
  },
  {
   "cell_type": "code",
   "execution_count": null,
   "metadata": {},
   "outputs": [],
   "source": [
    "#data_actor.to_csv('data_actor.csv', index=False)"
   ]
  },
  {
   "cell_type": "code",
   "execution_count": null,
   "metadata": {},
   "outputs": [],
   "source": []
  },
  {
   "cell_type": "code",
   "execution_count": 16,
   "metadata": {},
   "outputs": [],
   "source": [
    "\n",
    "def actor_info(actor_name:str):\n",
    "    actor_name = actor_name.lower().strip()\n",
    "    filtro_actor = data_actor[data_actor['name_actor'].apply(lambda x: any(d['name'].lower().strip() == actor_name for d in x) \n",
    "                                                             if isinstance(x, list) else False)]\n",
    "    return filtro_actor"
   ]
  },
  {
   "cell_type": "code",
   "execution_count": 17,
   "metadata": {},
   "outputs": [
    {
     "name": "stdout",
     "output_type": "stream",
     "text": [
      "       id_movie     return                             title  \\\n",
      "19       339988   1.138769                        The Circle   \n",
      "39           13  12.326280                      Forrest Gump   \n",
      "201       13448   2.377423                   Angels & Demons   \n",
      "208         862  12.451801                         Toy Story   \n",
      "213         857   6.883442               Saving Private Ryan   \n",
      "...         ...        ...                               ...   \n",
      "32025    208988   0.000000                           The War   \n",
      "32469      5707   0.000000                      Shooting War   \n",
      "35335     32694   0.000000  The Rutles 2: Can't Buy Me Lunch   \n",
      "38788    357125   0.000000                       The Sixties   \n",
      "38947     56235   0.000000                 Return with Honor   \n",
      "\n",
      "                                              name_actor  \n",
      "19     [{'name': 'Emma Watson'}, {'name': 'Tom Hanks'...  \n",
      "39     [{'name': 'Tom Hanks'}, {'name': 'Robin Wright...  \n",
      "201    [{'name': 'Tom Hanks'}, {'name': 'Ewan McGrego...  \n",
      "208    [{'name': 'Tom Hanks'}, {'name': 'Tim Allen'},...  \n",
      "213    [{'name': 'Tom Hanks'}, {'name': 'Matt Damon'}...  \n",
      "...                                                  ...  \n",
      "32025  [{'name': 'Keith David'}, {'name': 'Tom Hanks'...  \n",
      "32469  [{'name': 'Tom Hanks'}, {'name': 'Stephen Ambr...  \n",
      "35335  [{'name': 'Eric Idle'}, {'name': 'Neil Innes'}...  \n",
      "38788  [{'name': 'Walter Cronkite'}, {'name': 'David ...  \n",
      "38947  [{'name': 'Everett Alvarez'}, {'name': 'Ron Bl...  \n",
      "\n",
      "[71 rows x 4 columns]\n"
     ]
    }
   ],
   "source": [
    "actor_name = input(\"Ingrese el nombre del actor: \")\n",
    "result = actor_info(actor_name)\n",
    "print(result)"
   ]
  },
  {
   "attachments": {},
   "cell_type": "markdown",
   "metadata": {},
   "source": [
    "# Get_Director"
   ]
  },
  {
   "cell_type": "code",
   "execution_count": 18,
   "metadata": {},
   "outputs": [],
   "source": [
    "# listas de lo que parecen ser diccionarios, y listas vacías.\n",
    "# procedemos a la transformación de texto a diccionario\n",
    "import ast\n",
    "import json\n",
    "\n",
    "def convertir_a_dict(valor):\n",
    "    datos_list = ast.literal_eval(valor)\n",
    "    datos_str_list = [json.dumps(d) for d in datos_list]\n",
    "    datos_dict_list = [json.loads(d) for d in datos_str_list]\n",
    "    return datos_dict_list\n",
    "\n",
    "# Aplicar la función a toda la columna 'cast' agregando una nueva columna al DF llamada 'cast_dict'\n",
    "data['crew_conv_dict'] = data['crew'].apply(convertir_a_dict)"
   ]
  },
  {
   "cell_type": "code",
   "execution_count": 19,
   "metadata": {},
   "outputs": [
    {
     "data": {
      "text/plain": [
       "[{'credit_id': '5431b2b10e0a2656e20026c7',\n",
       "  'department': 'Production',\n",
       "  'gender': 2,\n",
       "  'id': 5720,\n",
       "  'job': 'Producer',\n",
       "  'name': 'Christopher Meledandri',\n",
       "  'profile_path': None},\n",
       " {'credit_id': '53ccb8edc3a368776a002323',\n",
       "  'department': 'Directing',\n",
       "  'gender': 0,\n",
       "  'id': 8023,\n",
       "  'job': 'Director',\n",
       "  'name': 'Kyle Balda',\n",
       "  'profile_path': '/jR8iAP6uC0V42KbUG87qBIUO3Hj.jpg'},\n",
       " {'credit_id': '5431b2870e0a2658b200266b',\n",
       "  'department': 'Writing',\n",
       "  'gender': 2,\n",
       "  'id': 52360,\n",
       "  'job': 'Characters',\n",
       "  'name': 'Ken Daurio',\n",
       "  'profile_path': '/ht3GsJsVQFCC1QYvrs5waVaKo4t.jpg'},\n",
       " {'credit_id': '5431b2990e0a265915002677',\n",
       "  'department': 'Writing',\n",
       "  'gender': 2,\n",
       "  'id': 52361,\n",
       "  'job': 'Characters',\n",
       "  'name': 'Cinco Paul',\n",
       "  'profile_path': '/eDBKlEbvWWzE8N7p5Xv3gNlkxPO.jpg'},\n",
       " {'credit_id': '563b5dc9c3a3681b5c0264db',\n",
       "  'department': 'Sound',\n",
       "  'gender': 2,\n",
       "  'id': 59706,\n",
       "  'job': 'Original Music Composer',\n",
       "  'name': 'Heitor Pereira',\n",
       "  'profile_path': None},\n",
       " {'credit_id': '5431b2a6c3a36811ef0026ed',\n",
       "  'department': 'Production',\n",
       "  'gender': 0,\n",
       "  'id': 65674,\n",
       "  'job': 'Producer',\n",
       "  'name': 'Janet Healy',\n",
       "  'profile_path': None},\n",
       " {'credit_id': '53ccb8fcc3a3687775002425',\n",
       "  'department': 'Directing',\n",
       "  'gender': 2,\n",
       "  'id': 124747,\n",
       "  'job': 'Director',\n",
       "  'name': 'Pierre Coffin',\n",
       "  'profile_path': '/enSQNAwRSDPq9M9VZ1yjDwKWbev.jpg'},\n",
       " {'credit_id': '5431b2bdc3a368117b002766',\n",
       "  'department': 'Production',\n",
       "  'gender': 0,\n",
       "  'id': 124748,\n",
       "  'job': 'Executive Producer',\n",
       "  'name': 'Chris Renaud',\n",
       "  'profile_path': '/mJGkOnJ8NrLt11p9qdaXsBF63BC.jpg'},\n",
       " {'credit_id': '5431b28fc3a36831a6003da5',\n",
       "  'department': 'Writing',\n",
       "  'gender': 2,\n",
       "  'id': 1024175,\n",
       "  'job': 'Writer',\n",
       "  'name': 'Brian Lynch',\n",
       "  'profile_path': '/dprj5Un51JO2QzQnDmHuBrqRQc3.jpg'},\n",
       " {'credit_id': '553d5700c3a368784500d158',\n",
       "  'department': 'Crew',\n",
       "  'gender': 0,\n",
       "  'id': 1447310,\n",
       "  'job': 'Post Production Supervisor',\n",
       "  'name': 'Jeannine Berger',\n",
       "  'profile_path': None},\n",
       " {'credit_id': '553ff1509251414aeb000014',\n",
       "  'department': 'Visual Effects',\n",
       "  'gender': 0,\n",
       "  'id': 1447388,\n",
       "  'job': 'Animation',\n",
       "  'name': 'Daniele Zannone',\n",
       "  'profile_path': None},\n",
       " {'credit_id': '563b5e3fc3a3681b5e023403',\n",
       "  'department': 'Editing',\n",
       "  'gender': 0,\n",
       "  'id': 1531911,\n",
       "  'job': 'Editor',\n",
       "  'name': 'Claire Dodgson',\n",
       "  'profile_path': None}]"
      ]
     },
     "execution_count": 19,
     "metadata": {},
     "output_type": "execute_result"
    }
   ],
   "source": [
    "data['crew_conv_dict'][0]"
   ]
  },
  {
   "cell_type": "code",
   "execution_count": 20,
   "metadata": {},
   "outputs": [],
   "source": [
    "\n",
    "# Creamos una columna con los nombres de los Directores\n",
    "data['name_director'] = data['crew_conv_dict'].apply(lambda x: [{'name': d['name']} for d in x if d.get('job') == 'Director'] if isinstance(x, list) else None)\n"
   ]
  },
  {
   "cell_type": "code",
   "execution_count": 21,
   "metadata": {},
   "outputs": [
    {
     "data": {
      "text/plain": [
       "[{'name': 'Kyle Balda'}, {'name': 'Pierre Coffin'}]"
      ]
     },
     "execution_count": 21,
     "metadata": {},
     "output_type": "execute_result"
    }
   ],
   "source": [
    "# verificamos que se creo \n",
    "data['name_director'][0]"
   ]
  },
  {
   "cell_type": "code",
   "execution_count": 22,
   "metadata": {},
   "outputs": [
    {
     "name": "stdout",
     "output_type": "stream",
     "text": [
      "<class 'pandas.core.frame.DataFrame'>\n",
      "RangeIndex: 45345 entries, 0 to 45344\n",
      "Data columns (total 16 columns):\n",
      " #   Column          Non-Null Count  Dtype  \n",
      "---  ------          --------------  -----  \n",
      " 0   budget          45345 non-null  float64\n",
      " 1   id_movie        45345 non-null  int64  \n",
      " 2   popularity      45345 non-null  float64\n",
      " 3   release_date    45345 non-null  object \n",
      " 4   revenue         45345 non-null  float64\n",
      " 5   title           45345 non-null  object \n",
      " 6   vote_average    45345 non-null  float64\n",
      " 7   vote_count      45345 non-null  float64\n",
      " 8   release_year    45345 non-null  object \n",
      " 9   return          45345 non-null  float64\n",
      " 10  cast            45345 non-null  object \n",
      " 11  crew            45345 non-null  object \n",
      " 12  cast_conv_dict  45345 non-null  object \n",
      " 13  name_actor      45345 non-null  object \n",
      " 14  crew_conv_dict  45345 non-null  object \n",
      " 15  name_director   45345 non-null  object \n",
      "dtypes: float64(6), int64(1), object(9)\n",
      "memory usage: 5.5+ MB\n"
     ]
    }
   ],
   "source": [
    "data.info()"
   ]
  },
  {
   "cell_type": "code",
   "execution_count": 23,
   "metadata": {},
   "outputs": [],
   "source": [
    "data_director = data[['id_movie','return','title','name_director', 'release_date','revenue','budget']]"
   ]
  },
  {
   "cell_type": "code",
   "execution_count": 24,
   "metadata": {},
   "outputs": [
    {
     "data": {
      "text/html": [
       "<div>\n",
       "<style scoped>\n",
       "    .dataframe tbody tr th:only-of-type {\n",
       "        vertical-align: middle;\n",
       "    }\n",
       "\n",
       "    .dataframe tbody tr th {\n",
       "        vertical-align: top;\n",
       "    }\n",
       "\n",
       "    .dataframe thead th {\n",
       "        text-align: right;\n",
       "    }\n",
       "</style>\n",
       "<table border=\"1\" class=\"dataframe\">\n",
       "  <thead>\n",
       "    <tr style=\"text-align: right;\">\n",
       "      <th></th>\n",
       "      <th>id_movie</th>\n",
       "      <th>return</th>\n",
       "      <th>title</th>\n",
       "      <th>name_director</th>\n",
       "      <th>release_date</th>\n",
       "      <th>revenue</th>\n",
       "      <th>budget</th>\n",
       "    </tr>\n",
       "  </thead>\n",
       "  <tbody>\n",
       "    <tr>\n",
       "      <th>0</th>\n",
       "      <td>211672</td>\n",
       "      <td>15.631499</td>\n",
       "      <td>Minions</td>\n",
       "      <td>[{'name': 'Kyle Balda'}, {'name': 'Pierre Coff...</td>\n",
       "      <td>2015-06-17</td>\n",
       "      <td>1.156731e+09</td>\n",
       "      <td>74000000.0</td>\n",
       "    </tr>\n",
       "    <tr>\n",
       "      <th>1</th>\n",
       "      <td>297762</td>\n",
       "      <td>5.507251</td>\n",
       "      <td>Wonder Woman</td>\n",
       "      <td>[{'name': 'Patty Jenkins'}]</td>\n",
       "      <td>2017-05-30</td>\n",
       "      <td>8.205804e+08</td>\n",
       "      <td>149000000.0</td>\n",
       "    </tr>\n",
       "    <tr>\n",
       "      <th>2</th>\n",
       "      <td>321612</td>\n",
       "      <td>7.893040</td>\n",
       "      <td>Beauty and the Beast</td>\n",
       "      <td>[{'name': 'Bill Condon'}]</td>\n",
       "      <td>2017-03-16</td>\n",
       "      <td>1.262886e+09</td>\n",
       "      <td>160000000.0</td>\n",
       "    </tr>\n",
       "    <tr>\n",
       "      <th>3</th>\n",
       "      <td>339403</td>\n",
       "      <td>6.603274</td>\n",
       "      <td>Baby Driver</td>\n",
       "      <td>[{'name': 'Edgar Wright'}]</td>\n",
       "      <td>2017-06-28</td>\n",
       "      <td>2.245113e+08</td>\n",
       "      <td>34000000.0</td>\n",
       "    </tr>\n",
       "    <tr>\n",
       "      <th>4</th>\n",
       "      <td>177572</td>\n",
       "      <td>3.952154</td>\n",
       "      <td>Big Hero 6</td>\n",
       "      <td>[{'name': 'Chris Williams'}, {'name': 'Don Hal...</td>\n",
       "      <td>2014-10-24</td>\n",
       "      <td>6.521054e+08</td>\n",
       "      <td>165000000.0</td>\n",
       "    </tr>\n",
       "    <tr>\n",
       "      <th>...</th>\n",
       "      <td>...</td>\n",
       "      <td>...</td>\n",
       "      <td>...</td>\n",
       "      <td>...</td>\n",
       "      <td>...</td>\n",
       "      <td>...</td>\n",
       "      <td>...</td>\n",
       "    </tr>\n",
       "    <tr>\n",
       "      <th>45340</th>\n",
       "      <td>293552</td>\n",
       "      <td>0.000000</td>\n",
       "      <td>At the River I Stand</td>\n",
       "      <td>[]</td>\n",
       "      <td>1993-01-01</td>\n",
       "      <td>0.000000e+00</td>\n",
       "      <td>0.0</td>\n",
       "    </tr>\n",
       "    <tr>\n",
       "      <th>45341</th>\n",
       "      <td>423078</td>\n",
       "      <td>0.000000</td>\n",
       "      <td>Narrien Illat</td>\n",
       "      <td>[{'name': 'Tapio Suominen'}]</td>\n",
       "      <td>1970-11-13</td>\n",
       "      <td>0.000000e+00</td>\n",
       "      <td>0.0</td>\n",
       "    </tr>\n",
       "    <tr>\n",
       "      <th>45342</th>\n",
       "      <td>47116</td>\n",
       "      <td>0.000000</td>\n",
       "      <td>The Winner</td>\n",
       "      <td>[{'name': 'Dušan Trančík'}]</td>\n",
       "      <td>1979-03-09</td>\n",
       "      <td>0.000000e+00</td>\n",
       "      <td>0.0</td>\n",
       "    </tr>\n",
       "    <tr>\n",
       "      <th>45343</th>\n",
       "      <td>159636</td>\n",
       "      <td>0.000000</td>\n",
       "      <td>Raakh</td>\n",
       "      <td>[{'name': 'Aditya Bhattacharya'}]</td>\n",
       "      <td>1989-09-17</td>\n",
       "      <td>0.000000e+00</td>\n",
       "      <td>0.0</td>\n",
       "    </tr>\n",
       "    <tr>\n",
       "      <th>45344</th>\n",
       "      <td>92292</td>\n",
       "      <td>0.000000</td>\n",
       "      <td>Star Spangled Girl</td>\n",
       "      <td>[{'name': 'Jerry Paris'}]</td>\n",
       "      <td>1971-12-22</td>\n",
       "      <td>0.000000e+00</td>\n",
       "      <td>0.0</td>\n",
       "    </tr>\n",
       "  </tbody>\n",
       "</table>\n",
       "<p>45345 rows × 7 columns</p>\n",
       "</div>"
      ],
      "text/plain": [
       "       id_movie     return                 title  \\\n",
       "0        211672  15.631499               Minions   \n",
       "1        297762   5.507251          Wonder Woman   \n",
       "2        321612   7.893040  Beauty and the Beast   \n",
       "3        339403   6.603274           Baby Driver   \n",
       "4        177572   3.952154            Big Hero 6   \n",
       "...         ...        ...                   ...   \n",
       "45340    293552   0.000000  At the River I Stand   \n",
       "45341    423078   0.000000         Narrien Illat   \n",
       "45342     47116   0.000000            The Winner   \n",
       "45343    159636   0.000000                 Raakh   \n",
       "45344     92292   0.000000    Star Spangled Girl   \n",
       "\n",
       "                                           name_director release_date  \\\n",
       "0      [{'name': 'Kyle Balda'}, {'name': 'Pierre Coff...   2015-06-17   \n",
       "1                            [{'name': 'Patty Jenkins'}]   2017-05-30   \n",
       "2                              [{'name': 'Bill Condon'}]   2017-03-16   \n",
       "3                             [{'name': 'Edgar Wright'}]   2017-06-28   \n",
       "4      [{'name': 'Chris Williams'}, {'name': 'Don Hal...   2014-10-24   \n",
       "...                                                  ...          ...   \n",
       "45340                                                 []   1993-01-01   \n",
       "45341                       [{'name': 'Tapio Suominen'}]   1970-11-13   \n",
       "45342                        [{'name': 'Dušan Trančík'}]   1979-03-09   \n",
       "45343                  [{'name': 'Aditya Bhattacharya'}]   1989-09-17   \n",
       "45344                          [{'name': 'Jerry Paris'}]   1971-12-22   \n",
       "\n",
       "            revenue       budget  \n",
       "0      1.156731e+09   74000000.0  \n",
       "1      8.205804e+08  149000000.0  \n",
       "2      1.262886e+09  160000000.0  \n",
       "3      2.245113e+08   34000000.0  \n",
       "4      6.521054e+08  165000000.0  \n",
       "...             ...          ...  \n",
       "45340  0.000000e+00          0.0  \n",
       "45341  0.000000e+00          0.0  \n",
       "45342  0.000000e+00          0.0  \n",
       "45343  0.000000e+00          0.0  \n",
       "45344  0.000000e+00          0.0  \n",
       "\n",
       "[45345 rows x 7 columns]"
      ]
     },
     "execution_count": 24,
     "metadata": {},
     "output_type": "execute_result"
    }
   ],
   "source": [
    "data_director"
   ]
  },
  {
   "cell_type": "code",
   "execution_count": 25,
   "metadata": {},
   "outputs": [
    {
     "name": "stdout",
     "output_type": "stream",
     "text": [
      "<class 'pandas.core.frame.DataFrame'>\n",
      "RangeIndex: 45345 entries, 0 to 45344\n",
      "Data columns (total 7 columns):\n",
      " #   Column         Non-Null Count  Dtype  \n",
      "---  ------         --------------  -----  \n",
      " 0   id_movie       45345 non-null  int64  \n",
      " 1   return         45345 non-null  float64\n",
      " 2   title          45345 non-null  object \n",
      " 3   name_director  45345 non-null  object \n",
      " 4   release_date   45345 non-null  object \n",
      " 5   revenue        45345 non-null  float64\n",
      " 6   budget         45345 non-null  float64\n",
      "dtypes: float64(3), int64(1), object(3)\n",
      "memory usage: 2.4+ MB\n"
     ]
    }
   ],
   "source": [
    "data_director.info()"
   ]
  },
  {
   "cell_type": "code",
   "execution_count": null,
   "metadata": {},
   "outputs": [],
   "source": [
    "#data_director.to_csv('data_director.csv', index=False)"
   ]
  },
  {
   "cell_type": "code",
   "execution_count": 26,
   "metadata": {},
   "outputs": [],
   "source": [
    "data_director = pd.read_csv('C:\\project_mlops\\datasets\\data_director.csv')"
   ]
  },
  {
   "cell_type": "code",
   "execution_count": 34,
   "metadata": {},
   "outputs": [
    {
     "data": {
      "text/plain": [
       "0        [{'name': 'Kyle Balda'}, {'name': 'Pierre Coff...\n",
       "1                              [{'name': 'Patty Jenkins'}]\n",
       "2                                [{'name': 'Bill Condon'}]\n",
       "3                               [{'name': 'Edgar Wright'}]\n",
       "4        [{'name': 'Chris Williams'}, {'name': 'Don Hal...\n",
       "                               ...                        \n",
       "45340                                                   []\n",
       "45341                         [{'name': 'Tapio Suominen'}]\n",
       "45342                          [{'name': 'Dušan Trančík'}]\n",
       "45343                    [{'name': 'Aditya Bhattacharya'}]\n",
       "45344                            [{'name': 'Jerry Paris'}]\n",
       "Name: name_director, Length: 45345, dtype: object"
      ]
     },
     "execution_count": 34,
     "metadata": {},
     "output_type": "execute_result"
    }
   ],
   "source": [
    "data_director['name_director']"
   ]
  },
  {
   "cell_type": "code",
   "execution_count": 31,
   "metadata": {},
   "outputs": [],
   "source": [
    "def director_info(director_name:str):\n",
    "    director_name = director_name.lower().strip()\n",
    "    filtro_director = data_director[data_director['name_director'].apply(lambda x: any(d['name'].lower().strip() == director_name for d in x) \n",
    "                                                             if isinstance(x, list) else False)]\n",
    "    return filtro_director"
   ]
  },
  {
   "cell_type": "code",
   "execution_count": 35,
   "metadata": {},
   "outputs": [
    {
     "data": {
      "text/html": [
       "<div>\n",
       "<style scoped>\n",
       "    .dataframe tbody tr th:only-of-type {\n",
       "        vertical-align: middle;\n",
       "    }\n",
       "\n",
       "    .dataframe tbody tr th {\n",
       "        vertical-align: top;\n",
       "    }\n",
       "\n",
       "    .dataframe thead th {\n",
       "        text-align: right;\n",
       "    }\n",
       "</style>\n",
       "<table border=\"1\" class=\"dataframe\">\n",
       "  <thead>\n",
       "    <tr style=\"text-align: right;\">\n",
       "      <th></th>\n",
       "      <th>id_movie</th>\n",
       "      <th>return</th>\n",
       "      <th>title</th>\n",
       "      <th>name_director</th>\n",
       "      <th>release_date</th>\n",
       "      <th>revenue</th>\n",
       "      <th>budget</th>\n",
       "    </tr>\n",
       "  </thead>\n",
       "  <tbody>\n",
       "  </tbody>\n",
       "</table>\n",
       "</div>"
      ],
      "text/plain": [
       "Empty DataFrame\n",
       "Columns: [id_movie, return, title, name_director, release_date, revenue, budget]\n",
       "Index: []"
      ]
     },
     "execution_count": 35,
     "metadata": {},
     "output_type": "execute_result"
    }
   ],
   "source": [
    "director_info('Patty Jenkins')"
   ]
  },
  {
   "cell_type": "code",
   "execution_count": null,
   "metadata": {},
   "outputs": [],
   "source": [
    "def director_info(director_name: str):\n",
    "    director_name = director_name.lower().strip()\n",
    "    filtro_director = data_director[data_director['name_director'].apply(lambda x: any(d['name'].lower().strip() == director_name for d in x) if isinstance(x, list) else False)]\n",
    "\n",
    "    nombre_director = filtro_director['name_director'].apply(lambda x: [d['name'] for d in x]).tolist()\n",
    "    retorno_total_director = filtro_director['return'].sum()\n",
    "    peliculas = filtro_director['title'].tolist()\n",
    "    anio = filtro_director['release_date'].tolist()\n",
    "    retorno_pelicula = filtro_director['return'].tolist()\n",
    "    budget_pelicula = filtro_director['budget'].tolist()\n",
    "    revenue_pelicula = filtro_director['revenue'].tolist()\n",
    "\n",
    "    return {'director': nombre_director, 'retorno_total_director': retorno_total_director, \n",
    "            'peliculas': peliculas, 'anio': anio, 'retorno_pelicula': retorno_pelicula, \n",
    "            'budget_pelicula': budget_pelicula, 'revenue_pelicula': revenue_pelicula}"
   ]
  },
  {
   "cell_type": "code",
   "execution_count": null,
   "metadata": {},
   "outputs": [
    {
     "name": "stdout",
     "output_type": "stream",
     "text": [
      "{'director': [], 'retorno_total_director': 0.0, 'peliculas': [], 'anio': [], 'retorno_pelicula': [], 'budget_pelicula': [], 'revenue_pelicula': []}\n"
     ]
    }
   ],
   "source": [
    "director_name = input(\"Ingrese el nombre del director: \")\n",
    "\n",
    "resultado = director_info(director_name)\n",
    "\n",
    "print(resultado)"
   ]
  },
  {
   "cell_type": "code",
   "execution_count": 3,
   "metadata": {},
   "outputs": [],
   "source": [
    "data_actor = pd.read_csv('C:\\project_mlops\\datasets\\data_actor.csv')"
   ]
  },
  {
   "cell_type": "code",
   "execution_count": 4,
   "metadata": {},
   "outputs": [
    {
     "name": "stdout",
     "output_type": "stream",
     "text": [
      "<class 'pandas.core.frame.DataFrame'>\n",
      "RangeIndex: 45345 entries, 0 to 45344\n",
      "Data columns (total 4 columns):\n",
      " #   Column      Non-Null Count  Dtype  \n",
      "---  ------      --------------  -----  \n",
      " 0   id_movie    45345 non-null  int64  \n",
      " 1   return      45345 non-null  float64\n",
      " 2   title       45345 non-null  object \n",
      " 3   name_actor  45345 non-null  object \n",
      "dtypes: float64(1), int64(1), object(2)\n",
      "memory usage: 1.4+ MB\n"
     ]
    }
   ],
   "source": [
    "data_actor.info()"
   ]
  },
  {
   "cell_type": "code",
   "execution_count": 6,
   "metadata": {},
   "outputs": [
    {
     "data": {
      "text/plain": [
       "\"[{'name': 'Sandra Bullock'}, {'name': 'Jon Hamm'}, {'name': 'Michael Keaton'}, {'name': 'Allison Janney'}, {'name': 'Steve Coogan'}, {'name': 'Jennifer Saunders'}, {'name': 'Geoffrey Rush'}, {'name': 'Steve Carell'}, {'name': 'Pierre Coffin'}, {'name': 'Katy Mixon'}, {'name': 'Michael Beattie'}, {'name': 'Hiroyuki Sanada'}, {'name': 'Dave Rosenbaum'}, {'name': 'Alex Dowding'}, {'name': 'Paul Thornley'}, {'name': 'Kyle Balda'}, {'name': 'Ava Acres'}]\""
      ]
     },
     "execution_count": 6,
     "metadata": {},
     "output_type": "execute_result"
    }
   ],
   "source": [
    "data_actor['name_actor'][0]"
   ]
  }
 ],
 "metadata": {
  "kernelspec": {
   "display_name": "env",
   "language": "python",
   "name": "python3"
  },
  "language_info": {
   "codemirror_mode": {
    "name": "ipython",
    "version": 3
   },
   "file_extension": ".py",
   "mimetype": "text/x-python",
   "name": "python",
   "nbconvert_exporter": "python",
   "pygments_lexer": "ipython3",
   "version": "3.10.11"
  },
  "orig_nbformat": 4
 },
 "nbformat": 4,
 "nbformat_minor": 2
}
